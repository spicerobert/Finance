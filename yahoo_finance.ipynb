{
 "cells": [
  {
   "cell_type": "code",
   "execution_count": null,
   "id": "5461b473",
   "metadata": {},
   "outputs": [],
   "source": [
    "pip install yfinance matplotlib"
   ]
  },
  {
   "cell_type": "code",
   "execution_count": null,
   "id": "29b772a6",
   "metadata": {},
   "outputs": [],
   "source": [
    "import yfinance as yf\n",
    "\n",
    "# 設定股票代號和數據的時間範圍\n",
    "stock_symbol = '0050.tw'\n",
    "start_date = '2024-01-01'\n",
    "end_date = '2024-12-31'\n",
    "\n",
    "# 使用yfinance來獲取股票數據\n",
    "data = yf.download(stock_symbol, start=start_date, end=end_date)\n",
    "\n",
    "# 顯示數據的前幾行\n",
    "print(data.head())"
   ]
  },
  {
   "cell_type": "code",
   "execution_count": null,
   "id": "a090f064-eb90-4f5e-b361-339245bc175e",
   "metadata": {},
   "outputs": [],
   "source": [
    "import yfinance as yf\n",
    "\n",
    "data = yf.download(\n",
    "    tickers=[\"0050.tw\", \"2332.tw\"],\n",
    "    start=\"2023-01-01\",\n",
    "    end=\"2023-12-31\",\n",
    "    interval=\"1d\",\n",
    "    group_by=\"ticker\",\n",
    ")\n",
    "# 顯示數據的前幾行\n",
    "print(data.head())"
   ]
  },
  {
   "cell_type": "code",
   "execution_count": null,
   "id": "a79474f0-2359-4cc9-931c-8903e3d28638",
   "metadata": {},
   "outputs": [],
   "source": [
    "import matplotlib.pyplot as plt\n",
    "# 修改字體顯示\n",
    "plt.rcParams['font.family'] = 'Microsoft JhengHei'  \n",
    "\n",
    "x = [1, 2, 3, 4]\n",
    "y = [10, 20, 15, 25]\n",
    "\n",
    "plt.plot(x, y)  # 畫折線圖\n",
    "plt.title(\"簡單折線圖\")\n",
    "plt.xlabel(\"X軸\")\n",
    "plt.ylabel(\"Y軸\")\n",
    "plt.show()"
   ]
  },
  {
   "cell_type": "code",
   "execution_count": null,
   "id": "63990516-82b9-45ee-ae8a-e494bbfd7e30",
   "metadata": {
    "scrolled": true
   },
   "outputs": [],
   "source": [
    "# 使用matplotlib來繪製收盤價走勢圖\n",
    "plt.figure(figsize=(10, 5))\n",
    "plt.plot(data['Close'], label='Close Price')\n",
    "plt.title(f'{stock_symbol} Stock Price')\n",
    "plt.xlabel('Date')\n",
    "plt.ylabel('Price')\n",
    "plt.legend()\n",
    "plt.show()"
   ]
  },
  {
   "cell_type": "code",
   "execution_count": null,
   "id": "edc59da7",
   "metadata": {
    "scrolled": true
   },
   "outputs": [],
   "source": [
    "import yfinance as yf\n",
    "import matplotlib.pyplot as plt\n",
    "plt.rcParams['font.family'] = 'Microsoft JhengHei'  \n",
    "# 設定股票代號列表\n",
    "stock_symbols = ['00915.TW', '00878.TW','00940.TW','00939.TW']\n",
    "start_date = '2024-01-01'\n",
    "end_date = '2024-12-31'\n",
    "\n",
    "# 使用yfinance來一次獲取所有指定股票的數據\n",
    "data = yf.download(stock_symbols, start=start_date, end=end_date)['Close']\n",
    "\n",
    "# 顯示數據的前幾行\n",
    "print(data.head())\n",
    "\n",
    "# 使用matplotlib來繪製所有股票的收盤價走勢圖\n",
    "plt.figure(figsize=(12, 6))\n",
    "for symbol in stock_symbols:\n",
    "    plt.plot(data[symbol], label=f'{symbol} Close Price')\n",
    "\n",
    "plt.title('ETF比較',fontsize=18)\n",
    "plt.xlabel('Date',fontsize=18)\n",
    "plt.ylabel('Price (NTD)',fontsize=18)\n",
    "plt.legend(fontsize=18)\n",
    "plt.tight_layout()\n",
    "plt.savefig(\"ETF.png\", bbox_inches='tight', dpi=300)\n",
    "plt.show()\n"
   ]
  },
  {
   "cell_type": "code",
   "execution_count": null,
   "id": "9d643497",
   "metadata": {},
   "outputs": [],
   "source": [
    "import yfinance as yf\n",
    "import matplotlib.pyplot as plt\n",
    "\n",
    "# 設定股票代號和數據的時間範圍\n",
    "stock_symbol = '2330.TW'\n",
    "start_date = '2022-06-01'\n",
    "end_date = '2025-06-01'\n",
    "\n",
    "# 使用yfinance來獲取股票數據\n",
    "data = yf.download(stock_symbol, start=start_date, end=end_date)\n",
    "\n",
    "# 計算技術指標：移動平均線（MA）\n",
    "data['MA5'] = data['Close'].rolling(window=5).mean()\n",
    "data['MA20'] = data['Close'].rolling(window=20).mean()\n",
    "data['MA60'] = data['Close'].rolling(window=60).mean()\n",
    "data['MA120'] = data['Close'].rolling(window=120).mean()\n",
    "\n",
    "# 顯示數據的前幾行\n",
    "print(data[['Close', 'MA5', 'MA20', 'MA60', 'MA120']].tail())\n",
    "\n",
    "# 使用matplotlib來繪製股票價格與技術指標的走勢圖\n",
    "plt.figure(figsize=(14, 7))\n",
    "plt.plot(data['Close'], label='Close Price')\n",
    "plt.plot(data['MA5'], label='5-Day MA')\n",
    "plt.plot(data['MA20'], label='20-Day MA')\n",
    "plt.plot(data['MA60'], label='60-Day MA')\n",
    "plt.plot(data['MA120'], label='120-Day MA')\n",
    "plt.title(f'{stock_symbol} Stock Price and Moving Averages')\n",
    "plt.legend()\n",
    "plt.tight_layout()\n",
    "plt.savefig(\"2330TW.png\", bbox_inches='tight', dpi=300)\n",
    "plt.show()"
   ]
  },
  {
   "cell_type": "code",
   "execution_count": null,
   "id": "41e0f46e-d561-47fc-aaeb-b916fb8d8c7c",
   "metadata": {
    "scrolled": true
   },
   "outputs": [],
   "source": [
    "import yfinance as yf\n",
    "import matplotlib.pyplot as plt\n",
    "\n",
    "# 設定股票代號和數據的時間範圍\n",
    "stock_symbol = '2330.TW'\n",
    "start_date = '2022-06-01'\n",
    "end_date = '2025-06-01'\n",
    "\n",
    "# 使用yfinance來獲取股票數據\n",
    "data = yf.download(stock_symbol, start=start_date, end=end_date)\n",
    "\n",
    "# 計算技術指標：移動平均線（MA）\n",
    "data['MA5'] = data['Close'].rolling(window=5).mean()\n",
    "data['MA20'] = data['Close'].rolling(window=20).mean()\n",
    "data['MA60'] = data['Close'].rolling(window=60).mean()\n",
    "data['MA120'] = data['Close'].rolling(window=120).mean()\n",
    "\n",
    "# 顯示數據的前幾行\n",
    "print(data[['Close', 'MA20', 'MA120']].tail())\n",
    "\n",
    "# 使用matplotlib來繪製股票價格與技術指標的走勢圖\n",
    "plt.figure(figsize=(14, 7))\n",
    "plt.plot(data['Close'], label='Close Price')\n",
    "plt.plot(data['MA20'], label='20-Day MA')\n",
    "plt.plot(data['MA120'], label='120-Day MA')\n",
    "plt.title(f'{stock_symbol} Stock Price and Moving Averages')\n",
    "plt.legend()\n",
    "plt.tight_layout()\n",
    "plt.savefig(\"2330TW.png\", bbox_inches='tight', dpi=300)\n",
    "plt.show()"
   ]
  }
 ],
 "metadata": {
  "kernelspec": {
   "display_name": "Python 3 (ipykernel)",
   "language": "python",
   "name": "python3"
  },
  "language_info": {
   "codemirror_mode": {
    "name": "ipython",
    "version": 3
   },
   "file_extension": ".py",
   "mimetype": "text/x-python",
   "name": "python",
   "nbconvert_exporter": "python",
   "pygments_lexer": "ipython3",
   "version": "3.11.13"
  }
 },
 "nbformat": 4,
 "nbformat_minor": 5
}
