{
 "cells": [
  {
   "cell_type": "code",
   "execution_count": 1,
   "id": "f6990469",
   "metadata": {
    "scrolled": true
   },
   "outputs": [
    {
     "data": {
      "text/plain": [
       "5"
      ]
     },
     "execution_count": 1,
     "metadata": {},
     "output_type": "execute_result"
    }
   ],
   "source": [
    "#位置參數1\n",
    "def 加法(a, b):\n",
    "    return a + b\n",
    "加法(2, 3)  # 傳入 2 給 a，3 給 b"
   ]
  },
  {
   "cell_type": "code",
   "execution_count": 2,
   "id": "3b84501f",
   "metadata": {
    "scrolled": true
   },
   "outputs": [
    {
     "name": "stdout",
     "output_type": "stream",
     "text": [
      "工程師 小華，歡迎回來！\n"
     ]
    }
   ],
   "source": [
    "#位置參數2\n",
    "def 歡迎訊息(姓名, 標題):\n",
    "    print(f\"{標題} {姓名}，歡迎回來！\")\n",
    "歡迎訊息(\"小華\", \"工程師\")  # 工程師 小華，歡迎回來！"
   ]
  },
  {
   "cell_type": "code",
   "execution_count": 3,
   "id": "22a0eb7c",
   "metadata": {
    "scrolled": false
   },
   "outputs": [
    {
     "name": "stdout",
     "output_type": "stream",
     "text": [
      "你好，訪客！\n",
      "你好，小明！\n"
     ]
    }
   ],
   "source": [
    "#預設參數1\n",
    "def 打招呼(姓名=\"訪客\"):\n",
    "    print(f\"你好，{姓名}！\")\n",
    "打招呼()           # 你好，訪客！\n",
    "打招呼(\"小明\")     # 你好，小明！"
   ]
  },
  {
   "cell_type": "code",
   "execution_count": 4,
   "id": "7dab3368",
   "metadata": {
    "scrolled": true
   },
   "outputs": [
    {
     "name": "stdout",
     "output_type": "stream",
     "text": [
      "帳號：user001，等級：一般會員\n",
      "帳號：admin001，等級：管理員\n"
     ]
    }
   ],
   "source": [
    "#預設參數2\n",
    "def 建立帳號(帳號, 等級=\"一般會員\"):\n",
    "    print(f\"帳號：{帳號}，等級：{等級}\")\n",
    "建立帳號(\"user001\")                # 帳號：user001，等級：一般會員\n",
    "建立帳號(\"admin001\", \"管理員\")     # 帳號：admin001，等級：管理員"
   ]
  },
  {
   "cell_type": "code",
   "execution_count": 5,
   "id": "17f26acf",
   "metadata": {
    "scrolled": true
   },
   "outputs": [
    {
     "name": "stdout",
     "output_type": "stream",
     "text": [
      "6\n",
      "50\n"
     ]
    }
   ],
   "source": [
    "#可變長度參數1\n",
    "def 加總(*數字):\n",
    "    return sum(數字)\n",
    "print(加總(1, 2, 3))        # 6\n",
    "print(加總(5, 10, 15, 20))  # 50"
   ]
  },
  {
   "cell_type": "code",
   "execution_count": 6,
   "id": "a2b8d306",
   "metadata": {
    "scrolled": true
   },
   "outputs": [
    {
     "name": "stdout",
     "output_type": "stream",
     "text": [
      "學生：小王\n",
      "學生：小李\n",
      "學生：小美\n"
     ]
    }
   ],
   "source": [
    "#可變長度參數2\n",
    "def 顯示學生(*學生名單):\n",
    "    for 姓名 in 學生名單:\n",
    "        print(f\"學生：{姓名}\")\n",
    "顯示學生(\"小王\", \"小李\", \"小美\")"
   ]
  },
  {
   "cell_type": "code",
   "execution_count": 12,
   "id": "1942cace",
   "metadata": {
    "scrolled": true
   },
   "outputs": [
    {
     "name": "stdout",
     "output_type": "stream",
     "text": [
      "學生資料：\n",
      "姓名：小綠\n",
      "年齡：18\n",
      "科系：資工系\n"
     ]
    }
   ],
   "source": [
    "#關鍵字可變長度參數\n",
    "def 建立學生資料(**資料):\n",
    "    print(\"學生資料：\")\n",
    "    for key, value in 資料.items():\n",
    "        print(f\"{key}：{value}\")\n",
    "建立學生資料(姓名=\"小綠\", 年齡=18, 科系=\"資工系\")"
   ]
  },
  {
   "cell_type": "code",
   "execution_count": 14,
   "id": "f4a2cf75",
   "metadata": {
    "scrolled": true
   },
   "outputs": [
    {
     "name": "stdout",
     "output_type": "stream",
     "text": [
      "帳號：user123，預設密碼：abcd\n",
      "備註： ('VIP', '已付款')\n",
      "個人資料： {'姓名': '小白', '信箱': 'test@example.com'}\n"
     ]
    }
   ],
   "source": [
    "#各類參數混合使用\n",
    "def 註冊(帳號, 密碼=\"1234\", *備註, **個人資料):\n",
    "    print(f\"帳號：{帳號}，預設密碼：{密碼}\")\n",
    "    print(\"備註：\", 備註)\n",
    "    print(\"個人資料：\", 個人資料)\n",
    "註冊(\"user123\", \"abcd\", \"VIP\", \"已付款\"\n",
    "   , 姓名=\"小白\", 信箱=\"test@example.com\")"
   ]
  },
  {
   "cell_type": "code",
   "execution_count": 19,
   "id": "b6aea283",
   "metadata": {
    "scrolled": true
   },
   "outputs": [
    {
     "name": "stdout",
     "output_type": "stream",
     "text": [
      "10 5\n"
     ]
    }
   ],
   "source": [
    "x = 10  # 全域\n",
    "\n",
    "def 範例():\n",
    "    y = 5  # 區域\n",
    "    print(x, y)\n",
    "\n",
    "範例()  # 印出 10 5\n",
    "# print(y)  # 會出錯，因為 y 是區域變數"
   ]
  },
  {
   "cell_type": "code",
   "execution_count": 20,
   "id": "387fa50f",
   "metadata": {
    "scrolled": true
   },
   "outputs": [
    {
     "name": "stdout",
     "output_type": "stream",
     "text": [
      "10 5\n"
     ]
    },
    {
     "ename": "NameError",
     "evalue": "name 'y' is not defined",
     "output_type": "error",
     "traceback": [
      "\u001b[1;31m---------------------------------------------------------------------------\u001b[0m",
      "\u001b[1;31mNameError\u001b[0m                                 Traceback (most recent call last)",
      "Cell \u001b[1;32mIn[20], line 8\u001b[0m\n\u001b[0;32m      5\u001b[0m     \u001b[38;5;28mprint\u001b[39m(x, y)\n\u001b[0;32m      7\u001b[0m 範例()  \u001b[38;5;66;03m# 印出 10 5\u001b[39;00m\n\u001b[1;32m----> 8\u001b[0m \u001b[38;5;28mprint\u001b[39m(y)\n",
      "\u001b[1;31mNameError\u001b[0m: name 'y' is not defined"
     ]
    }
   ],
   "source": [
    "x = 10  # 全域\n",
    "\n",
    "def 範例():\n",
    "    y = 5  # 區域\n",
    "    print(x, y)\n",
    "\n",
    "範例()  # 印出 10 5\n",
    "print(y)  # 會出錯，因為 y 是區域變數"
   ]
  },
  {
   "cell_type": "code",
   "execution_count": 21,
   "id": "5abd8cca",
   "metadata": {
    "scrolled": true
   },
   "outputs": [
    {
     "name": "stdout",
     "output_type": "stream",
     "text": [
      "120\n"
     ]
    }
   ],
   "source": [
    "#遞迴函式\n",
    "def factorial(n):\n",
    "    if n <= 1:\n",
    "        return 1\n",
    "    return n * factorial(n - 1)\n",
    "\n",
    "print(factorial(5))  # 120"
   ]
  },
  {
   "cell_type": "code",
   "execution_count": 22,
   "id": "e1ee19ba",
   "metadata": {
    "scrolled": true
   },
   "outputs": [
    {
     "name": "stdout",
     "output_type": "stream",
     "text": [
      "64\n"
     ]
    }
   ],
   "source": [
    "#高階函式\n",
    "def apply(func, value):\n",
    "    return func(value)\n",
    "\n",
    "def square(x):\n",
    "    return x * x\n",
    "\n",
    "print(apply(square, 8))  # 64"
   ]
  },
  {
   "cell_type": "code",
   "execution_count": null,
   "id": "dc9acb6c",
   "metadata": {
    "scrolled": true
   },
   "outputs": [],
   "source": [
    "\"\"\"\n",
    "實務練習:\n",
    "你是一家公司的資料分析師，需要撰寫一個函式 分析銷售(產品清單)，來分析各產品在不同地區的銷售情況。\n",
    "以下為你所獲得的產品銷售紀錄，請依此資料設計。\n",
    "\"\"\"\n",
    "商品資料 = [\n",
    "    {\"產品名稱\": \"電風扇\", \"北區\": 120, \"中區\": 85, \"南區\": 150},\n",
    "    {\"產品名稱\": \"冷氣機\", \"北區\": 80, \"中區\": 70, \"南區\": 200},\n",
    "    {\"產品名稱\": \"空氣清淨機\", \"北區\": 90, \"中區\": 110, \"南區\": 130}\n",
    "]\n",
    "\n",
    "def 分析銷售(產品清單):\n",
    "    #程式碼撰寫區\n",
    "    \n",
    "    # 1. 每個產品的總銷售量\n",
    "    print(\"每個產品的總銷售量：\")\n",
    "    #程式碼撰寫區\n",
    "    \n",
    "    # 2. 每個地區的總銷售與平均銷售\n",
    "    print(\"每個地區的總銷售量與平均銷售量：\")\n",
    "    #程式碼撰寫區\n",
    "    \n",
    "    # 3. 每個地區的銷售冠軍產品\n",
    "    print(\"各地區銷售冠軍產品：\")\n",
    "    #程式碼撰寫區\n",
    "    \n",
    "分析銷售(商品資料)\n",
    "\n",
    "\"\"\"\n",
    "以下為輸出結果\n",
    "\n",
    "每個產品的總銷售量：\n",
    "電風扇 總銷售量為：355\n",
    "冷氣機 總銷售量為：350\n",
    "空氣清淨機 總銷售量為：330\n",
    "\n",
    "每個地區的總銷售量與平均銷售量：\n",
    "北區：總銷售 290，平均每產品銷售 96.67\n",
    "中區：總銷售 265，平均每產品銷售 88.33\n",
    "南區：總銷售 480，平均每產品銷售 160.00\n",
    "\n",
    "各地區銷售冠軍產品：\n",
    "北區 銷售冠軍：電風扇（120 台）\n",
    "中區 銷售冠軍：空氣清淨機（110 台）\n",
    "南區 銷售冠軍：冷氣機（200 台）\n",
    "\n",
    "\"\"\""
   ]
  },
  {
   "cell_type": "code",
   "execution_count": 25,
   "id": "404b64f1",
   "metadata": {
    "scrolled": true
   },
   "outputs": [
    {
     "name": "stdout",
     "output_type": "stream",
     "text": [
      "每個產品的總銷售量：\n",
      "電風扇 總銷售量為：355\n",
      "冷氣機 總銷售量為：350\n",
      "空氣清淨機 總銷售量為：330\n",
      "\n",
      "每個地區的總銷售量與平均銷售量：\n",
      "北區：總銷售 290，平均每產品銷售 96.67\n",
      "中區：總銷售 265，平均每產品銷售 88.33\n",
      "南區：總銷售 480，平均每產品銷售 160.00\n",
      "\n",
      "各地區銷售冠軍產品：\n",
      "北區 銷售冠軍：電風扇（120 台）\n",
      "中區 銷售冠軍：空氣清淨機（110 台）\n",
      "南區 銷售冠軍：冷氣機（200 台）\n"
     ]
    }
   ],
   "source": [
    "#實務練習解答範例\n",
    "商品資料 = [\n",
    "    {\"產品名稱\": \"電風扇\", \"北區\": 120, \"中區\": 85, \"南區\": 150},\n",
    "    {\"產品名稱\": \"冷氣機\", \"北區\": 80, \"中區\": 70, \"南區\": 200},\n",
    "    {\"產品名稱\": \"空氣清淨機\", \"北區\": 90, \"中區\": 110, \"南區\": 130}\n",
    "]\n",
    "\n",
    "def 分析銷售(產品清單):\n",
    "    地區列表 = [\"北區\", \"中區\", \"南區\"]\n",
    "\n",
    "    # 1. 每個產品的總銷售量\n",
    "    print(\"每個產品的總銷售量：\")\n",
    "    for 產品 in 產品清單:\n",
    "        總和 = sum(產品[地區] for 地區 in 地區列表)\n",
    "        print(f\"{產品['產品名稱']} 總銷售量為：{總和}\")\n",
    "    print()\n",
    "\n",
    "    # 2. 每個地區的總銷售與平均銷售\n",
    "    print(\"每個地區的總銷售量與平均銷售量：\")\n",
    "    for 地區 in 地區列表:\n",
    "        總和 = sum(產品[地區] for 產品 in 產品清單)\n",
    "        平均 = 總和 / len(產品清單)\n",
    "        print(f\"{地區}：總銷售 {總和}，平均每產品銷售 {平均:.2f}\")\n",
    "    print()\n",
    "\n",
    "    # 3. 每個地區的銷售冠軍產品\n",
    "    print(\"各地區銷售冠軍產品：\")\n",
    "    for 地區 in 地區列表:\n",
    "        最高量 = -1\n",
    "        冠軍產品 = \"\"\n",
    "        for 產品 in 產品清單:\n",
    "            if 產品[地區] > 最高量:\n",
    "                最高量 = 產品[地區]\n",
    "                冠軍產品 = 產品[\"產品名稱\"]\n",
    "        print(f\"{地區} 銷售冠軍：{冠軍產品}（{最高量} 台）\")\n",
    "        \n",
    "分析銷售(商品資料)"
   ]
  }
 ],
 "metadata": {
  "kernelspec": {
   "display_name": "Python 3 (ipykernel)",
   "language": "python",
   "name": "python3"
  },
  "language_info": {
   "codemirror_mode": {
    "name": "ipython",
    "version": 3
   },
   "file_extension": ".py",
   "mimetype": "text/x-python",
   "name": "python",
   "nbconvert_exporter": "python",
   "pygments_lexer": "ipython3",
   "version": "3.11.4"
  }
 },
 "nbformat": 4,
 "nbformat_minor": 5
}
