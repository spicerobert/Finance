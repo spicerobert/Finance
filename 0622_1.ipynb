{
 "cells": [
  {
   "cell_type": "code",
   "execution_count": null,
   "id": "b19612a8-7808-4437-bf9d-6b08079df8c5",
   "metadata": {},
   "outputs": [],
   "source": [
    "import random\n",
    "\n",
    "# 生成一個 1 到 10 之間的隨機整數（包含 1 和 10）\n",
    "random_number = random.randint(1, 10)\n",
    "print(f\"生成的隨機數是: {random_number}\")\n",
    "\n",
    "# 生成一個 -5 到 5 之間的隨機整數（包含 -5 和 5）\n",
    "another_random_number = random.randint(-5, 5)\n",
    "print(f\"生成的另一個隨機數是: {another_random_number}\")\n",
    "\n",
    "# 參數 a 也可以大於 b，但通常建議 a 小於或等於 b 以避免混淆\n",
    "# 例如，random.randint(10, 1) 的行為會和 random.randint(1, 10) 相同，\n",
    "# 因為它會自動調整為較小的數作為下限，較大的數作為上限。\n",
    "# 然而，為了程式碼的可讀性和預期行為，建議保持 a <= b。"
   ]
  },
  {
   "cell_type": "code",
   "execution_count": null,
   "id": "51e4cbbd-0d58-4ad5-b322-e679ff7673c0",
   "metadata": {
    "scrolled": true
   },
   "outputs": [],
   "source": [
    "import random,openpyxl\n",
    "import random as rd\n",
    "from random import randint\n",
    "from random import randint as rdi\n",
    "print(random.randint(1,6))\n",
    "print(rd.randint(1,6))\n",
    "print(randint(1,6))\n",
    "rdi(1,6)"
   ]
  },
  {
   "cell_type": "code",
   "execution_count": null,
   "id": "9bd4f191-a017-415a-a05d-8706acb1f7a2",
   "metadata": {},
   "outputs": [],
   "source": [
    "import openpyxl as op\n",
    "# ex=op.Workbook()\n",
    "# ex.save(\"test.xlsx\")\n",
    "ex1=op.load_workbook(\"test.xlsx\")\n",
    "ex1"
   ]
  },
  {
   "cell_type": "code",
   "execution_count": null,
   "id": "4b7c300d-10c6-4a95-80ef-7475f9dd0ff1",
   "metadata": {},
   "outputs": [],
   "source": [
    "sht1=ex1[ex1.sheetnames[1]]\n",
    "sht1.title=\"工作表名稱\""
   ]
  },
  {
   "cell_type": "code",
   "execution_count": null,
   "id": "dcc5f441-200a-4b46-af48-102a732afae8",
   "metadata": {},
   "outputs": [],
   "source": [
    "sht1[\"A1\"]=123\n",
    "ex1.save(\"test1.xlsx\")"
   ]
  },
  {
   "cell_type": "code",
   "execution_count": null,
   "id": "c15130d5-d28e-44e9-ad9a-55252c01ab07",
   "metadata": {},
   "outputs": [],
   "source": [
    "for x in range(1,5):\n",
    "    sht1.cell(x,3).value=\"AAA\"\n",
    "ex1.save(\"test1.xlsx\")"
   ]
  },
  {
   "cell_type": "code",
   "execution_count": null,
   "id": "3ed6cd20-160d-4933-be24-94ba6d711594",
   "metadata": {},
   "outputs": [],
   "source": [
    "for x in range(1,5):\n",
    "    sht1.cell(x,3,\"bbb\")\n",
    "ex1.save(\"test1.xlsx\")"
   ]
  },
  {
   "cell_type": "code",
   "execution_count": null,
   "id": "1ec6c375-70c9-48b1-b597-bc1e0b6cf93f",
   "metadata": {},
   "outputs": [],
   "source": [
    "print(sht1[\"B3\"])\n",
    "print(sht1.cell(3,2))\n",
    "print(list(sht1.rows))\n",
    "print(list(sht1.rows)[2][1])\n",
    "print(list(sht1.columns))\n",
    "print(list(sht1.columns)[1][2])"
   ]
  },
  {
   "cell_type": "code",
   "execution_count": null,
   "id": "0ab7275d-466a-4689-8a42-bb45598e5589",
   "metadata": {
    "scrolled": true
   },
   "outputs": [],
   "source": [
    "print(sht1[\"B3\"].row)\n",
    "print(sht1[\"B3\"].column)\n",
    "print(sht1[\"B3\"].coordinate)\n",
    "print(sht1[\"C3\"].value)"
   ]
  },
  {
   "cell_type": "code",
   "execution_count": null,
   "id": "891ed253-69db-4036-8204-000589573a08",
   "metadata": {},
   "outputs": [],
   "source": [
    "import openpyxl as op\n",
    "ex=op.Workbook()\n",
    "ex.sheetnames\n",
    "sht=ex[ex.sheetnames[0]]\n",
    "sht.cell(5,5).value=123456\n",
    "ex.save(\"test3.xlsx\")"
   ]
  },
  {
   "cell_type": "code",
   "execution_count": null,
   "id": "c82586a4-ad8f-44bb-bee3-66aad6873cab",
   "metadata": {},
   "outputs": [],
   "source": [
    "ex.sheetnames\n",
    "ex.create_sheet(\"sheet41\")\n",
    "ex.sheetnames"
   ]
  },
  {
   "cell_type": "code",
   "execution_count": null,
   "id": "3d556ec0-34d2-4bb7-b633-f6155cdcb7e4",
   "metadata": {},
   "outputs": [],
   "source": [
    "ex.copy_worksheet(sht)"
   ]
  },
  {
   "cell_type": "code",
   "execution_count": null,
   "id": "25708c2a-7a6e-4f34-8411-3987e2c793d5",
   "metadata": {},
   "outputs": [],
   "source": [
    "ex.sheetnames\n",
    "ex.save(\"test3.xlsx\")"
   ]
  },
  {
   "cell_type": "code",
   "execution_count": null,
   "id": "7c71857d-2f54-492b-b21c-f8f51442597f",
   "metadata": {},
   "outputs": [],
   "source": [
    "ex2=op.Workbook()\n",
    "sht1=ex2.active\n",
    "ex2.copy_worksheet(sht1)"
   ]
  },
  {
   "cell_type": "code",
   "execution_count": null,
   "id": "55149e0f-0c04-4359-9c00-3e1ee4305357",
   "metadata": {},
   "outputs": [],
   "source": [
    "ex2.remove(sht1)\n",
    "del ex2['Sheet Copy']"
   ]
  },
  {
   "cell_type": "code",
   "execution_count": null,
   "id": "ded8d03b-3bb6-4402-8d99-f3b9a533ca6b",
   "metadata": {},
   "outputs": [],
   "source": [
    "import openpyxl as op\n",
    "ex2=op.Workbook()\n",
    "sht2=ex2.active\n",
    "a=[[1,2,3],[4,5,6]]\n",
    "for x in a:\n",
    "    sht2.append(x)\n",
    "ex2.save(\"test4.xlsx\")"
   ]
  },
  {
   "cell_type": "code",
   "execution_count": null,
   "id": "21bb5686-9c6e-4677-86a8-b415f06d3c40",
   "metadata": {},
   "outputs": [],
   "source": [
    "import random\n",
    "if random.randint(1,30) not in [26,13] :\n",
    "    print(random.randint(1,30))"
   ]
  },
  {
   "cell_type": "code",
   "execution_count": null,
   "id": "7859459a-1d37-4f5a-be45-e10d9a42ee67",
   "metadata": {},
   "outputs": [],
   "source": [
    "import openpyxl as op\n",
    "ex3=op.Workbook()\n",
    "sht3=ex3.active\n",
    "col=[\"名稱\",\"時薪\",\"時數\"]\n",
    "sht3.append(col)\n",
    "while True:\n",
    "    data=[]#[工作名稱,時薪,時數]\n",
    "    for x in col:\n",
    "        data.append(input(f\"請輸入工作{x}\"))\n",
    "    sht3.append(data)\n",
    "    if input(\"是否繼續\")==\"否\":\n",
    "        break\n",
    "ex3.save(\"test5.xlsx\")"
   ]
  },
  {
   "cell_type": "code",
   "execution_count": null,
   "id": "9451dcc0-f06c-44af-b9b4-5d83893b50a7",
   "metadata": {
    "scrolled": true
   },
   "outputs": [],
   "source": [
    "import openpyxl as op\n",
    "ex4=op.load_workbook(\"test5.xlsx\")\n",
    "sht4=ex4.active\n",
    "col=[\"名稱\",\"時薪\",\"時數\"]\n",
    "for row in list(sht4.rows):\n",
    "    if row[0].value==\"名稱\":\n",
    "        continue\n",
    "    print(f\"工作{col[0]}:{row[0].value},{col[1]}:{row[1].value},{col[2]}:{row[2].value}\")\n",
    "while True:\n",
    "    num=int(input(\"請問刪除第幾筆資料\"))\n",
    "    sht4.cell(num+1,1).value=\"\"\n",
    "    sht4.cell(num+1,2).value=\"\"\n",
    "    sht4.cell(num+1,3).value=\"\"\n",
    "    break\n",
    "ex4.save(\"test5.xlsx\")"
   ]
  },
  {
   "cell_type": "code",
   "execution_count": null,
   "id": "6bfddd64-09b7-4c6e-a109-8c2d7f378e29",
   "metadata": {},
   "outputs": [],
   "source": [
    "ex4.save(\"test5.xlsx\")"
   ]
  },
  {
   "cell_type": "code",
   "execution_count": 5,
   "id": "f866baf1",
   "metadata": {},
   "outputs": [
    {
     "name": "stdout",
     "output_type": "stream",
     "text": [
      "True\n"
     ]
    },
    {
     "data": {
      "text/html": [
       "<div>\n",
       "<style scoped>\n",
       "    .dataframe tbody tr th:only-of-type {\n",
       "        vertical-align: middle;\n",
       "    }\n",
       "\n",
       "    .dataframe tbody tr th {\n",
       "        vertical-align: top;\n",
       "    }\n",
       "\n",
       "    .dataframe thead th {\n",
       "        text-align: right;\n",
       "    }\n",
       "</style>\n",
       "<table border=\"1\" class=\"dataframe\">\n",
       "  <thead>\n",
       "    <tr style=\"text-align: right;\">\n",
       "      <th></th>\n",
       "      <th>code</th>\n",
       "      <th>channel</th>\n",
       "      <th>name</th>\n",
       "      <th>fullname</th>\n",
       "      <th>time</th>\n",
       "      <th>latest_trade_price</th>\n",
       "      <th>trade_volume</th>\n",
       "      <th>accumulate_trade_volume</th>\n",
       "      <th>best_bid_price</th>\n",
       "      <th>best_bid_volume</th>\n",
       "      <th>best_ask_price</th>\n",
       "      <th>best_ask_volume</th>\n",
       "      <th>open</th>\n",
       "      <th>high</th>\n",
       "      <th>low</th>\n",
       "    </tr>\n",
       "  </thead>\n",
       "  <tbody>\n",
       "    <tr>\n",
       "      <th>info</th>\n",
       "      <td>2363</td>\n",
       "      <td>2363.tw</td>\n",
       "      <td>矽統</td>\n",
       "      <td>矽統科技股份有限公司</td>\n",
       "      <td>2025-07-11 14:30:00</td>\n",
       "      <td>NaN</td>\n",
       "      <td>NaN</td>\n",
       "      <td>NaN</td>\n",
       "      <td>NaN</td>\n",
       "      <td>NaN</td>\n",
       "      <td>NaN</td>\n",
       "      <td>NaN</td>\n",
       "      <td>NaN</td>\n",
       "      <td>NaN</td>\n",
       "      <td>NaN</td>\n",
       "    </tr>\n",
       "    <tr>\n",
       "      <th>realtime</th>\n",
       "      <td>NaN</td>\n",
       "      <td>NaN</td>\n",
       "      <td>NaN</td>\n",
       "      <td>NaN</td>\n",
       "      <td>NaN</td>\n",
       "      <td>52.8000</td>\n",
       "      <td>999</td>\n",
       "      <td>16596</td>\n",
       "      <td>[52.8000, 52.7000, 52.6000, 52.5000, 52.4000]</td>\n",
       "      <td>[230, 198, 218, 361, 93]</td>\n",
       "      <td>[52.9000, 53.0000, 53.1000, 53.2000, 53.3000]</td>\n",
       "      <td>[4, 24, 49, 28, 115]</td>\n",
       "      <td>52.8000</td>\n",
       "      <td>53.8000</td>\n",
       "      <td>52.1000</td>\n",
       "    </tr>\n",
       "  </tbody>\n",
       "</table>\n",
       "</div>"
      ],
      "text/plain": [
       "          code  channel name    fullname                 time  \\\n",
       "info      2363  2363.tw   矽統  矽統科技股份有限公司  2025-07-11 14:30:00   \n",
       "realtime   NaN      NaN  NaN         NaN                  NaN   \n",
       "\n",
       "         latest_trade_price trade_volume accumulate_trade_volume  \\\n",
       "info                    NaN          NaN                     NaN   \n",
       "realtime            52.8000          999                   16596   \n",
       "\n",
       "                                         best_bid_price  \\\n",
       "info                                                NaN   \n",
       "realtime  [52.8000, 52.7000, 52.6000, 52.5000, 52.4000]   \n",
       "\n",
       "                   best_bid_volume  \\\n",
       "info                           NaN   \n",
       "realtime  [230, 198, 218, 361, 93]   \n",
       "\n",
       "                                         best_ask_price       best_ask_volume  \\\n",
       "info                                                NaN                   NaN   \n",
       "realtime  [52.9000, 53.0000, 53.1000, 53.2000, 53.3000]  [4, 24, 49, 28, 115]   \n",
       "\n",
       "             open     high      low  \n",
       "info          NaN      NaN      NaN  \n",
       "realtime  52.8000  53.8000  52.1000  "
      ]
     },
     "execution_count": 5,
     "metadata": {},
     "output_type": "execute_result"
    }
   ],
   "source": [
    "import twstock as tw\n",
    "import pandas as pd\n",
    "stock=tw.realtime.get('2363')\n",
    "print(stock['success'])\n",
    "result=pd.DataFrame(stock).T.iloc[1:3]\n",
    "result"
   ]
  }
 ],
 "metadata": {
  "kernelspec": {
   "display_name": "Python 3",
   "language": "python",
   "name": "python3"
  },
  "language_info": {
   "codemirror_mode": {
    "name": "ipython",
    "version": 3
   },
   "file_extension": ".py",
   "mimetype": "text/x-python",
   "name": "python",
   "nbconvert_exporter": "python",
   "pygments_lexer": "ipython3",
   "version": "3.12.5"
  }
 },
 "nbformat": 4,
 "nbformat_minor": 5
}
