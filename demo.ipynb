{
 "cells": [
  {
   "cell_type": "code",
   "execution_count": 3,
   "id": "f8b8b426-a2f3-48b7-b644-0efe167d9887",
   "metadata": {},
   "outputs": [
    {
     "name": "stdout",
     "output_type": "stream",
     "text": [
      " * Serving Flask app '__main__'\n",
      " * Debug mode: off\n"
     ]
    },
    {
     "name": "stderr",
     "output_type": "stream",
     "text": [
      "WARNING: This is a development server. Do not use it in a production deployment. Use a production WSGI server instead.\n",
      " * Running on http://127.0.0.1:3000\n",
      "Press CTRL+C to quit\n"
     ]
    },
    {
     "name": "stdout",
     "output_type": "stream",
     "text": [
      "{'destination': 'U6ca4028e7d889a04f331e03f0252bf24', 'events': [{'type': 'message', 'message': {'type': 'text', 'id': '571717981818847301', 'quoteToken': 'NJpnKQEl2hbHEHyMtLR6GdOHgXhAZvO_vCsf8KGqTLAoLOmbBoeh-t30VTEnRVYUA24og8irhaL_QVAIqr5-VictCvtos-NoZdFQtB-lFYun5cpBFjXTLTyhpbIl6tKM1YCJeoWG09zLbYB4eoYl6w', 'text': '456'}, 'webhookEventId': '01K15CZ6YCT0ZBWB71141ZP8QP', 'deliveryContext': {'isRedelivery': False}, 'timestamp': 1753601776190, 'source': {'type': 'user', 'userId': 'U0d28e97fd476a5689543684635550db4'}, 'replyToken': '31887477f22e40958d1852ca6469404d', 'mode': 'active'}]}\n"
     ]
    },
    {
     "name": "stderr",
     "output_type": "stream",
     "text": [
      "127.0.0.1 - - [27/Jul/2025 15:36:17] \"POST / HTTP/1.1\" 200 -\n"
     ]
    },
    {
     "name": "stdout",
     "output_type": "stream",
     "text": [
      "<Response [200]>\n",
      "{'destination': 'U6ca4028e7d889a04f331e03f0252bf24', 'events': [{'type': 'message', 'message': {'type': 'text', 'id': '571717989586698364', 'quoteToken': 'Zhp8WFNPKob6pJ-bjIgttizULbCG_2magZkXvgnYhfZ9L4e0bf7VRcm5ojm6kfSJujAHKzvsywjC9qc6JRzldZ-GTUaV2wHfSh62T5CKO-rZDdaMB0_ek8KvJ0FmHDW6B2Ty3w65u-yfy7wmAhJmvw', 'text': '123'}, 'webhookEventId': '01K15CZBCVBVFG7DZTW5HJTGQA', 'deliveryContext': {'isRedelivery': False}, 'timestamp': 1753601780820, 'source': {'type': 'user', 'userId': 'U0d28e97fd476a5689543684635550db4'}, 'replyToken': '0c351016a9e14aacbe23ccaa5a571b10', 'mode': 'active'}]}\n"
     ]
    },
    {
     "name": "stderr",
     "output_type": "stream",
     "text": [
      "127.0.0.1 - - [27/Jul/2025 15:36:21] \"POST / HTTP/1.1\" 200 -\n"
     ]
    },
    {
     "name": "stdout",
     "output_type": "stream",
     "text": [
      "<Response [200]>\n"
     ]
    },
    {
     "name": "stderr",
     "output_type": "stream",
     "text": [
      "[2025-07-27 15:39:58,314] ERROR in app: Exception on / [POST]\n",
      "Traceback (most recent call last):\n",
      "  File \"C:\\ProgramData\\anaconda3\\Lib\\site-packages\\flask\\app.py\", line 2529, in wsgi_app\n",
      "    response = self.full_dispatch_request()\n",
      "               ^^^^^^^^^^^^^^^^^^^^^^^^^^^^\n",
      "  File \"C:\\ProgramData\\anaconda3\\Lib\\site-packages\\flask\\app.py\", line 1825, in full_dispatch_request\n",
      "    rv = self.handle_user_exception(e)\n",
      "         ^^^^^^^^^^^^^^^^^^^^^^^^^^^^^\n",
      "  File \"C:\\ProgramData\\anaconda3\\Lib\\site-packages\\flask\\app.py\", line 1823, in full_dispatch_request\n",
      "    rv = self.dispatch_request()\n",
      "         ^^^^^^^^^^^^^^^^^^^^^^^\n",
      "  File \"C:\\ProgramData\\anaconda3\\Lib\\site-packages\\flask\\app.py\", line 1799, in dispatch_request\n",
      "    return self.ensure_sync(self.view_functions[rule.endpoint])(**view_args)\n",
      "           ^^^^^^^^^^^^^^^^^^^^^^^^^^^^^^^^^^^^^^^^^^^^^^^^^^^^^^^^^^^^^^^^^\n",
      "  File \"C:\\Users\\User\\AppData\\Local\\Temp\\ipykernel_7440\\1507813054.py\", line 28, in linebot\n",
      "    message = data[\"events\"][0][\"message\"]['text']\n",
      "              ~~~~~~~~~~~~~~~~~~~~~~~~~~~~^^^^^^^^\n",
      "KeyError: 'text'\n",
      "127.0.0.1 - - [27/Jul/2025 15:39:58] \"POST / HTTP/1.1\" 500 -\n"
     ]
    },
    {
     "name": "stdout",
     "output_type": "stream",
     "text": [
      "{'destination': 'U6ca4028e7d889a04f331e03f0252bf24', 'events': [{'type': 'message', 'message': {'type': 'sticker', 'id': '571718353165746661', 'quoteToken': '_sHMXAIcdxNmM8MBo26Dvpp0M9q6BpiHSPaPF3Gwq41qXPSU9lwUtD2iOk70xcKpEIqFJ01BM4MlV_3OdExXOAliN5S5Njzv3nf1w1bDLTgdWzjNBty04gXg0J9nBnucWpAzswHewk4M8QKS_vVw1w', 'stickerId': '52002739', 'packageId': '11537', 'stickerResourceType': 'ANIMATION', 'keywords': ['Please', 'thankful', 'Thanks', 'Pleading', 'thanksforeverything', 'brown', 'line', 'Bowing', 'grateful', 'appreciate']}, 'webhookEventId': '01K15D5Z6XKD5A9TFJR18GEV1S', 'deliveryContext': {'isRedelivery': False}, 'timestamp': 1753601997539, 'source': {'type': 'user', 'userId': 'U0d28e97fd476a5689543684635550db4'}, 'replyToken': '65a63afea0b7418cb75e891aad222e1e', 'mode': 'active'}]}\n"
     ]
    }
   ],
   "source": [
    "import requests\n",
    "import os\n",
    "from flask import Flask,request,Response\n",
    "from google import genai\n",
    "\n",
    "# 初始化 Flask 應用程式\n",
    "app = Flask(__name__)\n",
    "\n",
    "# 設定 LINE BOT Token\n",
    "BOT_TOKEN = \"\"\n",
    "H = {\n",
    "        \"Content-Type\": \"application/json\",\n",
    "        \"Authorization\": \"Bearer \" + BOT_TOKEN\n",
    "    }\n",
    "host = \"https://api.line.me/v2/bot/message/reply\"\n",
    "\n",
    "# LINE Webhook 入口\n",
    "@app.route(\"/\", methods=['POST'])\n",
    "def linebot():\n",
    "    # 取得使用者傳來的資料\n",
    "    data = request.get_json()\n",
    "    print(data)\n",
    "    #剖析客戶傳來的資料\n",
    "    message = data[\"events\"][0][\"message\"]['text']\n",
    "    reply_token = data['events'][0]['replyToken']\n",
    "\n",
    "    #主程式\n",
    "\n",
    "    \n",
    "    #回傳資料\n",
    "    payload = {\n",
    "        \"replyToken\": reply_token,\n",
    "        \"messages\": [{\n",
    "    \"type\": \"text\",\n",
    "    \"text\": message\n",
    "        }]\n",
    "    }\n",
    "    response=requests.post(host,headers=H,json=payload)\n",
    "    print(response,123456)\n",
    "    if response.status_code==200:\n",
    "        return \"OK\", 200\n",
    "    else:\n",
    "        return \"NO\", 400\n",
    "# 啟動 Flask 伺服器\n",
    "if __name__ == \"__main__\":\n",
    "    app.run(port=3000)"
   ]
  },
  {
   "cell_type": "code",
   "execution_count": null,
   "id": "15c9aecf-e38b-4fee-9cb9-ce1a3bcb538a",
   "metadata": {},
   "outputs": [],
   "source": []
  }
 ],
 "metadata": {
  "kernelspec": {
   "display_name": "Python 3 (ipykernel)",
   "language": "python",
   "name": "python3"
  },
  "language_info": {
   "codemirror_mode": {
    "name": "ipython",
    "version": 3
   },
   "file_extension": ".py",
   "mimetype": "text/x-python",
   "name": "python",
   "nbconvert_exporter": "python",
   "pygments_lexer": "ipython3",
   "version": "3.11.7"
  }
 },
 "nbformat": 4,
 "nbformat_minor": 5
}
