{
 "cells": [
  {
   "cell_type": "code",
   "execution_count": null,
   "id": "4396ebb8",
   "metadata": {},
   "outputs": [
    {
     "name": "stdout",
     "output_type": "stream",
     "text": [
      " * Serving Flask app '__main__'\n",
      " * Debug mode: off\n"
     ]
    },
    {
     "name": "stderr",
     "output_type": "stream",
     "text": [
      "WARNING: This is a development server. Do not use it in a production deployment. Use a production WSGI server instead.\n",
      " * Running on http://127.0.0.1:9527\n",
      "Press CTRL+C to quit\n"
     ]
    },
    {
     "name": "stdout",
     "output_type": "stream",
     "text": [
      "{'destination': 'Uc6b82425fd2239340a09c0db9a9af7c5', 'events': [{'type': 'message', 'message': {'type': 'text', 'id': '572694222197752035', 'quoteToken': 'Bgbu0-al-RHnwmpdrAd0vvcRXKKlA0mx52yS-2ItznHUYbcAR68j3Q1Wc7N7TSd3R4o5DSDonlIaVPw7LrgpS5gb6G2oqBCM5A_Dnris4gO2rVWF3FrPr2DBCRo64o4v13YazUMKsbq4gWx4CBrbWQ', 'text': '2330'}, 'webhookEventId': '01K1PQWXM210FNK6NJ371EJ5QE', 'deliveryContext': {'isRedelivery': False}, 'timestamp': 1754183660923, 'source': {'type': 'user', 'userId': 'U7aaa9d944ea3440663f01be0af6f2304'}, 'replyToken': '0e32df56ed5841fead4ccb84e6e8f6a6', 'mode': 'active'}]}\n"
     ]
    },
    {
     "name": "stderr",
     "output_type": "stream",
     "text": [
      "127.0.0.1 - - [03/Aug/2025 09:14:23] \"POST / HTTP/1.1\" 200 -\n"
     ]
    },
    {
     "name": "stdout",
     "output_type": "stream",
     "text": [
      "{'destination': 'Uc6b82425fd2239340a09c0db9a9af7c5', 'events': [{'type': 'message', 'message': {'type': 'text', 'id': '572694478805794902', 'quoteToken': 'YyUPHiG209Ws1tltC5949tXRsLy3z7gZDGpsfzbdQ-tKHUOWTCs9amEsM9YRuK2iNjNaqWWvFXiOu7l_3Y_56nL7tG9RKIr6WrMIi9C53ahehnJUGoWicB5M_e0DUrwzyBvuB6h_lQP2bJC-yj0UuA', 'text': '2881'}, 'webhookEventId': '01K1PR1K3GQ22W80SNH3QPGT25', 'deliveryContext': {'isRedelivery': False}, 'timestamp': 1754183813748, 'source': {'type': 'user', 'userId': 'U7aaa9d944ea3440663f01be0af6f2304'}, 'replyToken': 'a28ea79242ac469fab701db332bcb802', 'mode': 'active'}]}\n"
     ]
    },
    {
     "name": "stderr",
     "output_type": "stream",
     "text": [
      "127.0.0.1 - - [03/Aug/2025 09:16:56] \"POST / HTTP/1.1\" 200 -\n"
     ]
    },
    {
     "name": "stdout",
     "output_type": "stream",
     "text": [
      "{'destination': 'Uc6b82425fd2239340a09c0db9a9af7c5', 'events': [{'type': 'message', 'message': {'type': 'text', 'id': '572695226717306983', 'quoteToken': '5qVognioheWDcDT64NJw07RUqkRR52N66-l8ePD4UTIMScaUwLuvrNr6o9Zvx-fpPslMBtJYQT_1Cfo1iLteTA6EsrhdCz49vjISCnwMPX67JQo-_JSdwhiqpmS_wc2uD2KNX1Z8tyX8F70HeefvAQ', 'text': '2888'}, 'webhookEventId': '01K1PRF61DQ62EXJS1TCF6KWGG', 'deliveryContext': {'isRedelivery': False}, 'timestamp': 1754184259540, 'source': {'type': 'user', 'userId': 'U7aaa9d944ea3440663f01be0af6f2304'}, 'replyToken': '2f8c52600f9a4f52b012592997c6780b', 'mode': 'active'}]}\n",
      "2888無法獲取網頁內容，請檢查網站連接\n",
      "2888無法獲取股利資料，請檢查股票代號或網站連接\n"
     ]
    },
    {
     "name": "stderr",
     "output_type": "stream",
     "text": [
      "127.0.0.1 - - [03/Aug/2025 09:24:21] \"POST / HTTP/1.1\" 400 -\n"
     ]
    },
    {
     "name": "stdout",
     "output_type": "stream",
     "text": [
      "發送訊息失敗: 400 {\"message\":\"The request body has 1 error(s)\",\"details\":[{\"message\":\"May not be empty\",\"property\":\"messages[0].text\"}]}\n"
     ]
    }
   ],
   "source": [
    "import requests\n",
    "from bs4 import BeautifulSoup\n",
    "from flask import Flask, request\n",
    "\n",
    "def 取得股票股利資料(stock_code):\n",
    "\n",
    "    # 根據股票的代號建立 URL\n",
    "    url = f\"https://tw.stock.yahoo.com/quote/{stock_code}/dividend\"\n",
    "\n",
    "    # 發送 GET 請求獲取網頁內容\n",
    "    response = requests.get(url)\n",
    "\n",
    "    # Http Status Code 200 OK\n",
    "    if response.status_code == 200:\n",
    "        # 解析 HTML 內容\n",
    "        soup = BeautifulSoup(response.text, 'html.parser')\n",
    "        \n",
    "        # 提取股價，根據 Yahoo 股市網頁結構，上漲、下跌、平盤股價在不同的 class 中\n",
    "        stock_price_up = soup.find('span', {'class' : 'Fz(32px) Fw(b) Lh(1) Mend(16px) D(f) Ai(c) C($c-trend-up)'})\n",
    "        stock_price_down = soup.find('span', {'class' : 'Fz(32px) Fw(b) Lh(1) Mend(16px) D(f) Ai(c) C($c-trend-down)'})\n",
    "        stock_price_flat = soup.find('span', {'class' : 'Fz(32px) Fw(b) Lh(1) Mend(16px) D(f) Ai(c)'})\n",
    "        \n",
    "        # 根據不同的狀態來抓取股價\n",
    "        if stock_price_up:\n",
    "            stock_price = float(stock_price_up.text.strip().replace(',', ''))  # 上漲\n",
    "        elif stock_price_down:\n",
    "            stock_price = float(stock_price_down.text.strip().replace(',', ''))  # 下跌\n",
    "        elif stock_price_flat:\n",
    "            stock_price = float(stock_price_flat.text.strip().replace(',', ''))  # 平盤\n",
    "        else:\n",
    "            print(f\"{stock_code}未找到股價\")\n",
    "            return None\n",
    "        \n",
    "        # 找到包含股利資料的 <p> 標籤\n",
    "        dividend_section = soup.find('p', {'class' : 'Mb(20px) Mb(12px)--mobile Fz(16px) Fz(18px)--mobile C($c-primary-text)'})\n",
    "        \n",
    "        if dividend_section:\n",
    "            # 提取股利資料\n",
    "            # 找到所有 <span class=\"Fw(b)\"> 標籤，這些標籤包含我們需要的數據\n",
    "            data_spans = dividend_section.find_all('span', {'class' : 'Fw(b)'})\n",
    "            \n",
    "            # 檢查是否找到足夠的數據\n",
    "            if len(data_spans) >= 4:\n",
    "                # 連續發放股利年數\n",
    "                years_of_dividend = data_spans[0].text.strip()\n",
    "                # 合計發放股利金額\n",
    "                total_dividend = data_spans[1].text.strip()\n",
    "                # 近 5 年平均現金殖利率\n",
    "                average_dividend_yield = float(data_spans[3].text.strip().replace('%', '')) / 100  # 轉換為小數\n",
    "                \n",
    "                # 顯示抓取到的資料\n",
    "                # print(f\"股票代號: {stock_code}\", f\"股價: {stock_price}\")\n",
    "                # print(f\"連續發放股利年數: {years_of_dividend}\")\n",
    "                # print(f\"合計發放股利金額: {total_dividend} 元\")\n",
    "                # print(f\"近 5 年平均現金殖利率: {average_dividend_yield}\")\n",
    "\n",
    "                return {\n",
    "                    \"股票代號\": stock_code,\n",
    "                    \"股價\": stock_price,\n",
    "                    \"連續發放股利年數\": years_of_dividend,\n",
    "                    \"合計發放股利金額\": total_dividend,\n",
    "                    \"近5年平均現金殖利率\": average_dividend_yield\n",
    "                }\n",
    "            else:\n",
    "                print(f\"{stock_code}未能找到完整的股利資料\")\n",
    "                return None\n",
    "        else:\n",
    "            print(f\"{stock_code}未找到股利資料區域\")\n",
    "            return None\n",
    "    else:\n",
    "        print(f\"{stock_code}無法獲取網頁內容，請檢查網站連接\")\n",
    "        return None\n",
    "\n",
    "# 計算便宜價、合理價、昂貴價\n",
    "def calculate_prices(dividend_per_share, target_yield, market_average_yield, low_target_yield):\n",
    "    \n",
    "    cheap_price = dividend_per_share / target_yield\n",
    "    fair_price = dividend_per_share / market_average_yield\n",
    "    expensive_price = dividend_per_share / low_target_yield\n",
    "    \n",
    "    return cheap_price, fair_price, expensive_price\n",
    "\n",
    "# 個人設定的目標殖利率\n",
    "# 根據證交所統計, 台股整體殖利率自 2014 年至 2023 年 7 月近十年的平均為 3.94%, 而自 2018 年至 2023 年 7 月近五年的台股平均殖利率約 3.83%\n",
    "# 用台灣銀行數位存款利率當最低標準\n",
    "def 計算股價(stock_code, target_yield = 0.06, market_average_yield = 0.038, low_target_yield = 0.03):\n",
    "\n",
    "    stock_data = 取得股票股利資料(stock_code)\n",
    "\n",
    "    if stock_data:\n",
    "        # 計算平均股利\n",
    "        average_dividend = stock_data[\"股價\"] * stock_data[\"近5年平均現金殖利率\"]\n",
    "        # print(f\"股票代號 {stock_code} 平均股利: {average_dividend:.2f} 元\")\n",
    "        \n",
    "        # 計算便宜價、合理價、昂貴價\n",
    "        cheap, fair, expensive = calculate_prices(average_dividend, target_yield, market_average_yield, low_target_yield)\n",
    "        # 顯示價格\n",
    "        # print(f\"股票代號 {stock_code} 的便宜價 : {cheap :.2f} 元\")\n",
    "        # print(f\"股票代號 {stock_code} 的合理價 : {fair :.2f} 元\")\n",
    "        # print(f\"股票代號 {stock_code} 的昂貴價 : {expensive :.2f} 元\")\n",
    "        return f\"股票代號 {stock_code} 的便宜價 : {cheap :.2f} 元, 合理價 : {fair :.2f} 元, 昂貴價 : {expensive :.2f} 元\"\n",
    "    \n",
    "    else:\n",
    "        msg = f\"{stock_code}無法獲取股利資料，請檢查股票代號或網站連接\"\n",
    "        print(msg)\n",
    "        return msg\n",
    "\n",
    "# print(計算股價(\"2881\"))  # 台積電\n",
    "\n",
    "# 初始化 Flask 應用程式\n",
    "app = Flask(__name__)\n",
    "\n",
    "# 設定 LINE BOT Token\n",
    "BOT_TOKEN = \"1JJuR+VMnP4gftJE1z3yLHHsI4HEm3j2kDeyBSOkV+D3Nyok2q9CSVp4HHDpkpw0FOsgzP96nQBx63mIHh+3B/SBUGsjNZ3LuhXcaSaYDzGDUK0lwiIeTlqtJBkWlerAyhORneeNgw2wKBcJ1WW4UAdB04t89/1O/w1cDnyilFU=\"\n",
    "ngrok_port = 9527\n",
    "\n",
    "# 傳送文字訊息函數\n",
    "def send_text_message(reply_token, text):\n",
    "    headers = {\n",
    "        \"Content-Type\": \"application/json\",\n",
    "        \"Authorization\": \"Bearer \" + BOT_TOKEN\n",
    "    }\n",
    "    \n",
    "    payload = {\n",
    "        \"replyToken\": reply_token,\n",
    "        \"messages\": [{\n",
    "            \"type\": \"text\",\n",
    "            \"text\": text\n",
    "        }\n",
    "     ]\n",
    "    }\n",
    "    \n",
    "    # 發送 POST 請求至 LINE Messaging API\n",
    "    response = requests.post(\n",
    "        \"https://api.line.me/v2/bot/message/reply\",\n",
    "        headers=headers,\n",
    "        json=payload\n",
    "    )\n",
    "    return response\n",
    "\n",
    "# LINE Webhook 入口\n",
    "@app.route(\"/\", methods = ['POST'])\n",
    "def linebot():\n",
    "    # 取得使用者傳來的資料\n",
    "    data = request.get_json()\n",
    "    print(data)\n",
    "    \n",
    "    # 提取 replyToken\n",
    "    reply_token = data['events'][0]['replyToken']\n",
    "    \n",
    "    # 回傳文字訊息\n",
    "    response = send_text_message(reply_token, 計算股價(data['events'][0]['message']['text']))\n",
    "    \n",
    "    if response.status_code == 200:\n",
    "        return \"OK\", 200\n",
    "    else:\n",
    "        print(\"發送訊息失敗:\", response.status_code, response.text)\n",
    "        return \"Error\", 400\n",
    "\n",
    "# 啟動 Flask 伺服器\n",
    "if __name__ == \"__main__\":\n",
    "    app.run(port = ngrok_port)\n"
   ]
  },
  {
   "cell_type": "code",
   "execution_count": null,
   "id": "d802813e-53bc-4e20-9fb7-1dc224a1a1a2",
   "metadata": {},
   "outputs": [],
   "source": []
  }
 ],
 "metadata": {
  "kernelspec": {
   "display_name": "Python 3 (ipykernel)",
   "language": "python",
   "name": "python3"
  },
  "language_info": {
   "codemirror_mode": {
    "name": "ipython",
    "version": 3
   },
   "file_extension": ".py",
   "mimetype": "text/x-python",
   "name": "python",
   "nbconvert_exporter": "python",
   "pygments_lexer": "ipython3",
   "version": "3.11.7"
  }
 },
 "nbformat": 4,
 "nbformat_minor": 5
}
