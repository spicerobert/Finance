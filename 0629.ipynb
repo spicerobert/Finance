{
 "cells": [
  {
   "cell_type": "code",
   "execution_count": null,
   "id": "273f4888-8470-4c8e-98c8-2c1c677c067f",
   "metadata": {},
   "outputs": [
    {
     "ename": "",
     "evalue": "",
     "output_type": "error",
     "traceback": [
      "\u001b[1;31mRunning cells with 'LangChain (Python 3.10.18)' requires the ipykernel package.\n",
      "\u001b[1;31m<a href='command:jupyter.createPythonEnvAndSelectController'>Create a Python Environment</a> with the required packages.\n",
      "\u001b[1;31mOr install 'ipykernel' using the command: 'conda install -p e:\\Google Drive\\venv\\LangChain ipykernel --update-deps --force-reinstall'"
     ]
    }
   ],
   "source": [
    "import requests\n",
    "\n",
    "url = 'http://127.0.0.1:5000/CheckIn'\n",
    "response = requests.post(url, json={'name': 'ALAN'})\n",
    "print(response.json())"
   ]
  },
  {
   "cell_type": "code",
   "execution_count": 16,
   "id": "6e93061d-47e5-4032-a67d-660d14761619",
   "metadata": {
    "scrolled": true
   },
   "outputs": [
    {
     "name": "stdout",
     "output_type": "stream",
     "text": [
      " * Serving Flask app 'Alan'\n",
      " * Debug mode: off\n"
     ]
    },
    {
     "name": "stderr",
     "output_type": "stream",
     "text": [
      "WARNING: This is a development server. Do not use it in a production deployment. Use a production WSGI server instead.\n",
      " * Running on http://127.0.0.1:5000\n",
      "Press CTRL+C to quit\n",
      "127.0.0.1 - - [29/Jun/2025 11:41:47] \"GET /ALAN HTTP/1.1\" 405 -\n"
     ]
    }
   ],
   "source": [
    "from flask import Flask,request\n",
    "app=Flask(__name__)\n",
    "@app.route(\"/ALAN\",methods=[\"POST\"])\n",
    "def aa():\n",
    "    print(\"有人連線\")\n",
    "    return \"連線成功\"\n",
    "@app.route(\"/Verify/<name>/<pswd>\")\n",
    "def bb(name,pswd):\n",
    "    print(f\"歡迎{name}驗證開始\")\n",
    "    if pswd==\"1234\":\n",
    "        return f\"{name}驗證成功\"\n",
    "    else:\n",
    "        return \"密碼錯誤\"\n",
    "@app.route(\"/Vf\")#/Vf?key=value&key2=value2.....\n",
    "def cc():\n",
    "    data=request.args\n",
    "    print(data)\n",
    "    print(request.args.get('a'))\n",
    "    print(request.args.get('b'))\n",
    "    print(request.args.get('c'))\n",
    "    return data\n",
    "if __name__==\"__main__\":\n",
    "    app.run(port=1234)"
   ]
  },
  {
   "cell_type": "code",
   "execution_count": null,
   "id": "9a32c29c-bcf3-416a-914f-edbecf7facfc",
   "metadata": {},
   "outputs": [],
   "source": [
    "import json\n",
    "data=json.loads(re.text)\n",
    "data"
   ]
  },
  {
   "cell_type": "code",
   "execution_count": null,
   "id": "d0f47633-1e92-49ee-bb68-1c68b78da5ac",
   "metadata": {},
   "outputs": [],
   "source": [
    "re=rq.delete(host+\"744765754567190_607721665217368\"+\"?access_token=\"+token)\n",
    "re.text"
   ]
  },
  {
   "cell_type": "code",
   "execution_count": null,
   "id": "15d110c0-7d7e-4f7b-9416-b4e8dac0aa58",
   "metadata": {},
   "outputs": [],
   "source": [
    "import requests as rq\n",
    "host=\"https://graph.facebook.com/v23.0/\"\n",
    "page_ID=\"744765754567190_1468412117658422\"\n",
    "token=\"EAARXFf7s69YBO396i9VqauvY5fg2YGtZCMkt30wMZAwvX8p7brNKZAYEamrCD7coECnKzDmU1wgxc33j42WyPS4dEl7CI201jpFMAWJeVfpWEDbnIt8uxyErEc8fYRL9ibSnQidosVzqejrdH04oZAoVBMDzr8EGP7yF3yicCizANmHJjH11jVk8UbhWizkK7yQVwInWcRfFLOMmpLBbWVzcAse9lJbAWJB6200cdVTVxsZCqJ9pDOAZDZD\"\n",
    "re=rq.post(host+page_ID+\"/comments?message=測試回覆&access_token=\"+token)\n",
    "re"
   ]
  },
  {
   "cell_type": "code",
   "execution_count": null,
   "id": "045504b4-d21f-442b-9a7b-dcdb27abaca9",
   "metadata": {},
   "outputs": [],
   "source": [
    "https://graph.facebook.com/v23.0/674955721548194_1409726519993988/comments?access_token=EAARXFf7s69YBO5KCaZCVM8uEusBotqTBVyFAvSOhm0dvEKC3wpyeIMI78TZAM76pmFzFid6yirZA5ZC6PZAZAg67TEyc9eHe9ZC2Ss3uHNjVwaZAYUYZCKdz1mDpMIGVLTdiZCkEzb0KU3Nk0hc1QpjKDlZAXJXkjlO1PQ4QcQZB41wK7q41FJqzJIaM2Yj7MzcgdCLlZCqbCuwlKGYtRxmRsgAvlYa0X0u9ZBntExKvUL58iIQ4hRWQYgNfwiMwySq74ZD"
   ]
  }
 ],
 "metadata": {
  "kernelspec": {
   "display_name": "Python 3",
   "language": "python",
   "name": "python3"
  },
  "language_info": {
   "codemirror_mode": {
    "name": "ipython",
    "version": 3
   },
   "file_extension": ".py",
   "mimetype": "text/x-python",
   "name": "python",
   "nbconvert_exporter": "python",
   "pygments_lexer": "ipython3",
   "version": "3.10.18"
  }
 },
 "nbformat": 4,
 "nbformat_minor": 5
}
