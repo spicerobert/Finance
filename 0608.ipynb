{
 "cells": [
  {
   "cell_type": "code",
   "execution_count": null,
   "id": "48a2872f-03ca-41fd-a7dd-b2b6e1fb47e1",
   "metadata": {
    "id": "48a2872f-03ca-41fd-a7dd-b2b6e1fb47e1",
    "outputId": "637894b3-2b0a-4ad1-a1cf-f786dd004b4a"
   },
   "outputs": [
    {
     "ename": "",
     "evalue": "",
     "output_type": "error",
     "traceback": [
      "\u001b[1;31mRunning cells with 'Miniconda (Python 3.13.5)' requires the ipykernel package.\n",
      "\u001b[1;31m<a href='command:jupyter.createPythonEnvAndSelectController'>Create a Python Environment</a> with the required packages.\n",
      "\u001b[1;31mOr install 'ipykernel' using the command: 'conda install -p d:\\Miniconda ipykernel --update-deps --force-reinstall'"
     ]
    }
   ],
   "source": [
    "lis_n=[]\n",
    "n=input()\n",
    "for x in n:\n",
    "    lis_n.append(int(x))\n",
    "print(lis_n)"
   ]
  },
  {
   "cell_type": "code",
   "execution_count": null,
   "id": "4baaff3a-9d30-40b8-9184-0be6cdf3feb6",
   "metadata": {
    "id": "4baaff3a-9d30-40b8-9184-0be6cdf3feb6",
    "outputId": "f1852c6b-0bf7-4844-a15e-31819a3a6713"
   },
   "outputs": [],
   "source": [
    "import random\n",
    "list_n=[0,1,2,3,4,5,6,7,8,9]\n",
    "random.shuffle(list_n)\n",
    "list_n[0:4]"
   ]
  },
  {
   "cell_type": "code",
   "execution_count": null,
   "id": "c8f5460d-cfbf-4617-ab69-c59421d14ce1",
   "metadata": {
    "id": "c8f5460d-cfbf-4617-ab69-c59421d14ce1",
    "outputId": "9c781ad3-686d-4f7e-f114-cb8fd2e8f3c9"
   },
   "outputs": [],
   "source": [
    "import random\n",
    "list_n=[0,1,2,3,4,5,6,7,8,9]\n",
    "list_ans=[]\n",
    "while len(list_ans)<4:\n",
    "    n=random.randint(0,len(list_n)-1)\n",
    "    list_ans.append(list_n[n])\n",
    "    list_n.pop(n)\n",
    "    print(n)\n",
    "    print(list_ans)\n",
    "    print(list_n)\n",
    "    print(\"-------------\")"
   ]
  },
  {
   "cell_type": "code",
   "execution_count": null,
   "id": "d142c5b8-11dc-4bd3-aec5-2812caf469e0",
   "metadata": {
    "id": "d142c5b8-11dc-4bd3-aec5-2812caf469e0",
    "outputId": "96cbf017-f2fb-47b3-f99f-9f81de40c0d8"
   },
   "outputs": [],
   "source": [
    "import random\n",
    "list_n=[]\n",
    "while 1:\n",
    "    n=random.randint(0,9)\n",
    "    if n not in list_n:\n",
    "        list_n.append(n)\n",
    "    if len(list_n)==4:\n",
    "        break\n",
    "print(list_n)"
   ]
  },
  {
   "cell_type": "code",
   "execution_count": null,
   "id": "d33a85d2-5673-4081-894b-f1ac4224eb77",
   "metadata": {
    "id": "d33a85d2-5673-4081-894b-f1ac4224eb77",
    "outputId": "db03c44f-6c5e-4332-8685-5c4e5f5248a3"
   },
   "outputs": [],
   "source": [
    "import random\n",
    "count=0\n",
    "while 1:\n",
    "    n=random.randint(1,2)\n",
    "    print(n)\n",
    "    if n==6:\n",
    "        print(\"You Lose\")\n",
    "        break\n",
    "    else:\n",
    "        count+=1\n",
    "        if count==3:\n",
    "            print(\"You Win\")"
   ]
  },
  {
   "cell_type": "code",
   "execution_count": null,
   "id": "0b010add-3e53-4931-8a57-df9718f2769b",
   "metadata": {
    "id": "0b010add-3e53-4931-8a57-df9718f2769b",
    "outputId": "0534b276-d2bb-452c-d7c2-e56f59eebc53"
   },
   "outputs": [],
   "source": [
    "total=0\n",
    "for x in range(5):\n",
    "    num=int(input())\n",
    "    if num>6:\n",
    "        pass\n",
    "    total+=num\n",
    "total"
   ]
  },
  {
   "cell_type": "code",
   "execution_count": null,
   "id": "bf0858d7-e206-4dde-9646-b1ac05dde071",
   "metadata": {
    "id": "bf0858d7-e206-4dde-9646-b1ac05dde071",
    "outputId": "398c3e1e-bcae-449f-fe41-5a40d613ed64"
   },
   "outputs": [],
   "source": [
    "n=int(input())\n",
    "for x in range(n):\n",
    "    print(x)"
   ]
  },
  {
   "cell_type": "code",
   "execution_count": null,
   "id": "b1d8de6b-0864-4114-9f7a-825421950d18",
   "metadata": {
    "id": "b1d8de6b-0864-4114-9f7a-825421950d18",
    "outputId": "804e864e-e3b1-4ecb-9c51-1ee4f5d0d7fd"
   },
   "outputs": [],
   "source": [
    "total=0\n",
    "for a in range(n):\n",
    "    print(\"第%d次\"%(a))\n",
    "    for b in range(12,15):\n",
    "        print(b)"
   ]
  },
  {
   "cell_type": "code",
   "execution_count": null,
   "id": "e62db292-0647-428b-9952-b9d2fd1fe0c1",
   "metadata": {
    "id": "e62db292-0647-428b-9952-b9d2fd1fe0c1",
    "outputId": "138579be-a8a3-4c46-8803-851230080c5f"
   },
   "outputs": [],
   "source": [
    "total=0\n",
    "for x in range(5,30,3):\n",
    "    print(x)"
   ]
  },
  {
   "cell_type": "code",
   "execution_count": null,
   "id": "2cf9ae34-1fbe-4ec9-900b-2d184ee500bc",
   "metadata": {
    "id": "2cf9ae34-1fbe-4ec9-900b-2d184ee500bc",
    "outputId": "dab0004e-e29e-4170-b631-fb3e66b40bdb"
   },
   "outputs": [],
   "source": [
    "for x in {\"A\":4564,\"XC\":45,\"C\":456}:\n",
    "    print(123)"
   ]
  },
  {
   "cell_type": "code",
   "execution_count": null,
   "id": "7d5be7c4-6807-4b9b-9697-f942815cff7e",
   "metadata": {
    "id": "7d5be7c4-6807-4b9b-9697-f942815cff7e",
    "outputId": "6568ff48-cc6d-4b71-c5c5-8ba35ee76064"
   },
   "outputs": [],
   "source": [
    "n=int(input())\n",
    "if n%400==0 or (n%100!=0 and n%4==0):\n",
    "    print(\"閏年\")\n",
    "else:\n",
    "    print(\"平年\")"
   ]
  },
  {
   "cell_type": "code",
   "execution_count": null,
   "id": "a7c9a6dc-f737-4ebb-96a4-36e3a4328e16",
   "metadata": {
    "id": "a7c9a6dc-f737-4ebb-96a4-36e3a4328e16",
    "outputId": "fc15869e-1370-4e84-95b2-11018bf769f1"
   },
   "outputs": [],
   "source": [
    "not (3<5 and 6<10)"
   ]
  },
  {
   "cell_type": "code",
   "execution_count": null,
   "id": "1cfacb7c-ff4e-42bd-8aa2-efcc25a3e436",
   "metadata": {
    "id": "1cfacb7c-ff4e-42bd-8aa2-efcc25a3e436",
    "outputId": "6dedaebd-5813-4763-d2c5-dab79a96d1ed"
   },
   "outputs": [],
   "source": [
    "num=int(input(\"請輸入0~100\"))\n",
    "if num < 60 and num >= 0:\n",
    "    print(\"不及格\")\n",
    "elif num <= 100 and num>=90:\n",
    "    print(\"A\")\n",
    "elif num >= 70 and num < 80:\n",
    "    print(\"C\")\n",
    "elif num >= 80 and num < 90:\n",
    "    print(\"B\")"
   ]
  },
  {
   "cell_type": "code",
   "execution_count": null,
   "id": "893d573f-3226-4f5c-87bb-2a919e52094e",
   "metadata": {
    "id": "893d573f-3226-4f5c-87bb-2a919e52094e",
    "outputId": "dfc6212c-3959-4289-8d1e-5ba0682af932"
   },
   "outputs": [],
   "source": [
    "num=input(\"請輸入正整數\")\n",
    "if int(num)>0:\n",
    "    if int(num) % 2 == 1:\n",
    "        print(\"奇數\")\n",
    "    else:\n",
    "        print(\"偶數\")\n",
    "else:\n",
    "    print(\"請輸入正整數\")"
   ]
  },
  {
   "cell_type": "code",
   "execution_count": null,
   "id": "46de87fb-cf52-4571-ac0f-61ca8a3d042f",
   "metadata": {
    "id": "46de87fb-cf52-4571-ac0f-61ca8a3d042f",
    "outputId": "4863b9f9-7fd4-4d29-c42d-e6d31c4049b7"
   },
   "outputs": [],
   "source": [
    "print(\"AAAA%-10dBBBBB\"%(456045))"
   ]
  },
  {
   "cell_type": "code",
   "execution_count": null,
   "id": "DosAe0nJTqKL",
   "metadata": {
    "id": "DosAe0nJTqKL"
   },
   "outputs": [],
   "source": [
    "#使用list.count作為篩選\n",
    "list1=[1,2,[\"AAAA\",132.478,24,64],7]\n",
    "if list1.count(2)>0:#回傳找到的次數\n",
    "  print(list1.index(2))\n",
    "print(\"AA\")"
   ]
  },
  {
   "cell_type": "code",
   "execution_count": null,
   "id": "f2f52f70-24c1-4d9d-bb6c-237769f3076e",
   "metadata": {
    "colab": {
     "base_uri": "https://localhost:8080/"
    },
    "executionInfo": {
     "elapsed": 10,
     "status": "ok",
     "timestamp": 1749382250544,
     "user": {
      "displayName": "戴嘉熙",
      "userId": "12166748808314964786"
     },
     "user_tz": -480
    },
    "id": "f2f52f70-24c1-4d9d-bb6c-237769f3076e",
    "outputId": "9c456fc5-6f55-48fd-ccb7-6b09b9dcb69b"
   },
   "outputs": [],
   "source": [
    "list1=[1,2,[\"AAAA\",132.478,24,64],7]\n",
    "\n",
    "try:\n",
    "    list1.index(111)#找到回傳索引值，找不到報錯\n",
    "except:\n",
    "    print(\"值錯誤\")\n",
    "print(\"AA\")"
   ]
  },
  {
   "cell_type": "code",
   "execution_count": null,
   "id": "e3b70b47-5307-4a64-a023-dbc4bae4a5f7",
   "metadata": {
    "id": "e3b70b47-5307-4a64-a023-dbc4bae4a5f7",
    "outputId": "ba39b68a-2548-4428-9720-92d13408fc1c"
   },
   "outputs": [],
   "source": [
    "list1=[]\n",
    "list1.append(-1)\n",
    "print(list1)"
   ]
  },
  {
   "cell_type": "code",
   "execution_count": null,
   "id": "5231ec78-1b2f-4f9a-b345-151227293224",
   "metadata": {
    "id": "5231ec78-1b2f-4f9a-b345-151227293224",
    "outputId": "44c50f7d-9bfc-4707-8ee1-77532558f669"
   },
   "outputs": [],
   "source": [
    "print(\"12346\"+\"AAAAA\",end=\"@@@\")\n",
    "print(\"12346\"+\"AAAAA\")"
   ]
  },
  {
   "cell_type": "code",
   "execution_count": null,
   "id": "6a9a086c-d3c4-4af6-a770-525f9f19aeb1",
   "metadata": {
    "id": "6a9a086c-d3c4-4af6-a770-525f9f19aeb1",
    "outputId": "32f0d38e-210b-46d7-8fd2-1b9c4b580cad"
   },
   "outputs": [],
   "source": [
    "健康資料=[]\n",
    "name=input(\"請輸入名字\")\n",
    "t=input(\"請輸入身高\")\n",
    "w=input(\"請輸入體重\")\n",
    "print(f\"你的名字是{name},身高:{t},體重:{w}\")\n",
    "print(\"你的名字是%s,身高:%s,體重:%s\"%(name,t,w))\n",
    "健康資料.append([name,t,w])\n",
    "健康資料[0]"
   ]
  },
  {
   "cell_type": "code",
   "execution_count": null,
   "id": "c63b2143-8982-40ad-89ec-bcac9017754f",
   "metadata": {
    "id": "c63b2143-8982-40ad-89ec-bcac9017754f",
    "outputId": "2960ad9d-0083-47fc-a242-e245c5e9f083"
   },
   "outputs": [],
   "source": [
    "a=int(input(\"請輸入第一個數字\"))\n",
    "b=int(input(\"請輸入第二個數字\"))\n",
    "print(a+b)"
   ]
  },
  {
   "cell_type": "code",
   "execution_count": null,
   "id": "dbbb9d1a-55a9-444d-aac6-112dd9e71a94",
   "metadata": {
    "id": "dbbb9d1a-55a9-444d-aac6-112dd9e71a94",
    "outputId": "d77371cf-0bff-4b33-88a6-e1fea270a012"
   },
   "outputs": [],
   "source": [
    "dic4={}\n",
    "dic4[\"BBB\"]=456\n",
    "dic4[\"AA\"]=78987\n",
    "dic4[\"BBB\"]=777\n",
    "dic4"
   ]
  },
  {
   "cell_type": "code",
   "execution_count": null,
   "id": "ed82cdb8-d0a3-4362-9073-6c19dc0ce036",
   "metadata": {
    "id": "ed82cdb8-d0a3-4362-9073-6c19dc0ce036",
    "outputId": "9335b18b-b613-422b-fa09-1d3b1d2e3e9f"
   },
   "outputs": [],
   "source": [
    "list3=[]\n",
    "list3.append(123)\n",
    "list3.append(123)\n",
    "list3.append(123)\n",
    "list3.append(123)\n",
    "list3"
   ]
  },
  {
   "cell_type": "code",
   "execution_count": null,
   "id": "905a8431-1eb9-4d91-a9ba-47aa5c927a6b",
   "metadata": {
    "id": "905a8431-1eb9-4d91-a9ba-47aa5c927a6b",
    "outputId": "75ad607d-d5eb-4554-b1d4-04be0d5f9274"
   },
   "outputs": [],
   "source": [
    "dic2={\"A\":456}\n",
    "dic2[\"A\"]=789\n",
    "dic2"
   ]
  },
  {
   "cell_type": "code",
   "execution_count": null,
   "id": "ce005094-cf14-441a-97f7-4a185a5dfe82",
   "metadata": {
    "id": "ce005094-cf14-441a-97f7-4a185a5dfe82",
    "outputId": "419e35f6-652d-4a61-9a6b-cfd54465b14c"
   },
   "outputs": [],
   "source": [
    "list2=[15]\n",
    "list2[0]=5\n",
    "list2[0]"
   ]
  },
  {
   "cell_type": "code",
   "execution_count": null,
   "id": "7de7aed7-779c-47b5-8c60-565e9ffc1d3b",
   "metadata": {
    "id": "7de7aed7-779c-47b5-8c60-565e9ffc1d3b",
    "outputId": "f06890be-9d52-4645-97f2-fdeede120852"
   },
   "outputs": [],
   "source": [
    "dic1={\"A\":456,\"B\":[1,{\"C\":444},3]}\n",
    "dic1[\"B\"][1][\"C\"]\n"
   ]
  },
  {
   "cell_type": "code",
   "execution_count": null,
   "id": "52fbe3e1-ceaa-43a8-85bf-76ae67425128",
   "metadata": {
    "id": "52fbe3e1-ceaa-43a8-85bf-76ae67425128",
    "outputId": "a25629fe-b92d-40e2-c40f-969fe6bec879"
   },
   "outputs": [],
   "source": [
    "list1=[1,2,[\"AAAA\",132.478,24,64],7]\n",
    "list1[2][0]\n",
    "list1\n",
    "tuple"
   ]
  },
  {
   "cell_type": "code",
   "execution_count": null,
   "id": "9cc77d87-e1a7-4b93-91f1-c59028ae2cfc",
   "metadata": {
    "id": "9cc77d87-e1a7-4b93-91f1-c59028ae2cfc",
    "outputId": "786aba31-ed30-4cb0-a4f0-0d398fed4ad7",
    "scrolled": true
   },
   "outputs": [],
   "source": [
    "\"\"\"\n",
    "list[開始索引 : 結束索引 : 間距(默認為1)]\n",
    "\n",
    "開始索引：從哪個位置開始（包含該索引）。\n",
    "結束索引：到哪個位置結束（不包含該索引）。\n",
    "間距：每次前進的間隔，正值表示往右走、負值表示往左走（也就是逆序）。\n",
    "\"\"\"\n",
    "str2=\"hello python\"\n",
    "print(str2[-3:-6])"
   ]
  },
  {
   "cell_type": "code",
   "execution_count": null,
   "id": "9cc711ea-567e-4707-a8d6-4b41cd3fed2b",
   "metadata": {
    "id": "9cc711ea-567e-4707-a8d6-4b41cd3fed2b"
   },
   "outputs": [],
   "source": [
    "拍=3.14\n",
    "str1=\"圓周率等於=\"\n",
    "print(str1+str(拍))"
   ]
  },
  {
   "cell_type": "code",
   "execution_count": null,
   "id": "57e5b417-3845-4e33-9148-be532809bcea",
   "metadata": {
    "id": "57e5b417-3845-4e33-9148-be532809bcea"
   },
   "outputs": [],
   "source": [
    "\"\"\"\n",
    "四則運算\n",
    "\"\"\"\n",
    "num1=6\n",
    "num2=3.0\n",
    "# print(num1+num2)\n",
    "# print(num1-num2)\n",
    "# print(num1*num2)\n",
    "# print(num1/num2)\n",
    "print(num1//num2)#取商數\n",
    "print(num1%num2)\n",
    "print((2+2)/2)"
   ]
  },
  {
   "cell_type": "code",
   "execution_count": null,
   "id": "QmcrkozfQVay",
   "metadata": {
    "colab": {
     "base_uri": "https://localhost:8080/"
    },
    "executionInfo": {
     "elapsed": 6,
     "status": "ok",
     "timestamp": 1749381862094,
     "user": {
      "displayName": "戴嘉熙",
      "userId": "12166748808314964786"
     },
     "user_tz": -480
    },
    "id": "QmcrkozfQVay",
    "outputId": "cc614315-74bd-44f6-f31d-7afb434026ab"
   },
   "outputs": [],
   "source": [
    "dic1={1:2,2:3}\n",
    "print(dic1[1])\n",
    "dic2=dict(key1=\"A\",key2=\"B\")\n",
    "print(dic2)\n",
    "\n",
    "# 錯誤用法，使用整數作為key\n",
    "# dic3=dict(1=\"A\",2=\"B\")\n",
    "# print(dic3)"
   ]
  }
 ],
 "metadata": {
  "colab": {
   "provenance": []
  },
  "kernelspec": {
   "display_name": "Python 3",
   "language": "python",
   "name": "python3"
  },
  "language_info": {
   "codemirror_mode": {
    "name": "ipython",
    "version": 3
   },
   "file_extension": ".py",
   "mimetype": "text/x-python",
   "name": "python",
   "nbconvert_exporter": "python",
   "pygments_lexer": "ipython3",
   "version": "3.13.5"
  }
 },
 "nbformat": 4,
 "nbformat_minor": 5
}
