{
 "cells": [
  {
   "cell_type": "code",
   "execution_count": 11,
   "id": "81ddd948-58fd-44d1-b92c-9164fd90f302",
   "metadata": {},
   "outputs": [],
   "source": [
    "import requests\n",
    "import pandas as pd\n",
    "import math\n",
    "import time\n",
    "\n",
    "def 下載股價資訊(年份,股票代碼):\n",
    "    月份列表 = [f\"{str(年份)}{str(m).zfill(2)}01\" for m in range(1, 13)]\n",
    "    all_data = []\n",
    "    for date_str in 月份列表:\n",
    "        url = f\"https://www.twse.com.tw/exchangeReport/STOCK_DAY?response=json&date={date_str}&stockNo={股票代碼}\"\n",
    "        headers = {'User-Agent': 'Mozilla/5.0'}\n",
    "        response = requests.get(url, headers=headers)\n",
    "        data = response.json()\n",
    "\n",
    "        if data[\"stat\"] != \"OK\":\n",
    "            continue\n",
    "\n",
    "        df = pd.DataFrame(data[\"data\"], columns=data[\"fields\"])\n",
    "\n",
    "        # 處理收盤價\n",
    "        df[\"收盤價\"] = pd.to_numeric(df[\"收盤價\"].str.replace(\",\", \"\"), errors=\"coerce\")\n",
    "\n",
    "        all_data.append(df[[\"日期\", \"收盤價\"]])\n",
    "        time.sleep(1)  # 避免請求過快\n",
    "\n",
    "    return pd.concat(all_data).dropna().sort_values(\"日期\").reset_index(drop=True)\n",
    "\n",
    "# 下載資料\n",
    "股票代碼 = \"2330\"\n",
    "df = 下載股價資訊(月份,股票代碼)\n",
    "\n",
    "r_mean=df[\"收盤價\"].pct_change().dropna().mean()\n",
    "f\"{r_mean:.2%}\""
   ]
  },
  {
   "cell_type": "code",
   "execution_count": 24,
   "id": "501f34ef-3bcc-48ed-941d-e314d04d214d",
   "metadata": {},
   "outputs": [
    {
     "name": "stdout",
     "output_type": "stream",
     "text": [
      " * Serving Flask app '__main__'\n",
      " * Debug mode: off\n"
     ]
    },
    {
     "name": "stderr",
     "output_type": "stream",
     "text": [
      "WARNING: This is a development server. Do not use it in a production deployment. Use a production WSGI server instead.\n",
      " * Running on http://127.0.0.1:3000\n",
      "Press CTRL+C to quit\n"
     ]
    },
    {
     "name": "stdout",
     "output_type": "stream",
     "text": [
      "{'destination': 'U6ca4028e7d889a04f331e03f0252bf24', 'events': [{'type': 'message', 'message': {'type': 'text', 'id': '570706606527611188', 'quoteToken': 'Vn1qrDPz7BtisEJUdbcb4psOvRQnNrPwS71p-VDgiCpm8AjYwujjXyfG0nQ6Algai47QzM2QbcqDxhrRVFuMlTGAXiEVSL3uyR2sLzqcCZHaVKIi5xRQDxWngK5ucBKxUxRiAzy0ZkgHDqNKaNtlFw', 'text': '年份2023'}, 'webhookEventId': '01K0KE2D5KE09E8KN20XF26PM1', 'deliveryContext': {'isRedelivery': False}, 'timestamp': 1752998949560, 'source': {'type': 'user', 'userId': 'U0d28e97fd476a5689543684635550db4'}, 'replyToken': '7c4b3ed29bb34f889d43096b7d3a01c0', 'mode': 'active'}]}\n"
     ]
    },
    {
     "name": "stderr",
     "output_type": "stream",
     "text": [
      "127.0.0.1 - - [20/Jul/2025 16:09:10] \"POST / HTTP/1.1\" 200 -\n"
     ]
    },
    {
     "name": "stdout",
     "output_type": "stream",
     "text": [
      "{'destination': 'U6ca4028e7d889a04f331e03f0252bf24', 'events': [{'type': 'message', 'message': {'type': 'text', 'id': '570706620032746051', 'quoteToken': 'l5ytwbOUyTXM5HfzbS506ZoNImLVE155AY-6taSmlX70xd6RZhsE548kVwWI9E4zmxYi5brK82LDg06IiAFNpz2fUwmPYWdogvPuu9ozC9GDazFCogdPA8jTDkJcykQhgKZClBQhoL5HlLJb5xDBZg', 'text': '股票代碼2330'}, 'webhookEventId': '01K0KE2MXWZ49G69XSZ0TKC8TD', 'deliveryContext': {'isRedelivery': False}, 'timestamp': 1752998957598, 'source': {'type': 'user', 'userId': 'U0d28e97fd476a5689543684635550db4'}, 'replyToken': 'a635ede210544fec919f3975218421cc', 'mode': 'active'}]}\n"
     ]
    },
    {
     "name": "stderr",
     "output_type": "stream",
     "text": [
      "127.0.0.1 - - [20/Jul/2025 16:09:31] \"POST / HTTP/1.1\" 200 -\n"
     ]
    }
   ],
   "source": [
    "\"\"\"\n",
    "HTTP呼叫模式\n",
    "參考Message API資料，以request呼叫\n",
    "https://developers.line.biz/en/reference/messaging-api/#send-reply-message\n",
    "\"\"\"\n",
    "import requests\n",
    "import pandas as pd\n",
    "import math\n",
    "import time\n",
    "import requests\n",
    "from flask import Flask, request\n",
    "def 下載股價資訊(年份,股票代碼):\n",
    "    月份列表 = [f\"{年份}{str(m).zfill(2)}01\" for m in range(1, 13)]\n",
    "    all_data = []\n",
    "    for date_str in 月份列表:\n",
    "        url = f\"https://www.twse.com.tw/exchangeReport/STOCK_DAY?response=json&date={date_str}&stockNo={股票代碼}\"\n",
    "        headers = {'User-Agent': 'Mozilla/5.0'}\n",
    "        response = requests.get(url, headers=headers)\n",
    "        data = response.json()\n",
    "\n",
    "        if data[\"stat\"] != \"OK\":\n",
    "            continue\n",
    "\n",
    "        df = pd.DataFrame(data[\"data\"], columns=data[\"fields\"])\n",
    "\n",
    "        # 處理收盤價\n",
    "        df[\"收盤價\"] = pd.to_numeric(df[\"收盤價\"].str.replace(\",\", \"\"), errors=\"coerce\")\n",
    "\n",
    "        all_data.append(df[[\"日期\", \"收盤價\"]])\n",
    "        time.sleep(1)  # 避免請求過快\n",
    "\n",
    "    return pd.concat(all_data).dropna().sort_values(\"日期\").reset_index(drop=True)\n",
    "# 初始化 Flask 應用程式\n",
    "app = Flask(__name__)\n",
    "\n",
    "# 設定 LINE BOT Token\n",
    "BOT_TOKEN = \"貼上TOKEN\"\n",
    "\n",
    "# 傳送文字訊息函數\n",
    "def send_text_message(reply_token, text):\n",
    "    headers = {\n",
    "        \"Content-Type\": \"application/json\",\n",
    "        \"Authorization\": \"Bearer \" + BOT_TOKEN\n",
    "    }\n",
    "    \n",
    "    payload = {\n",
    "        \"replyToken\": reply_token,\n",
    "        \"messages\": [text]\n",
    "    }\n",
    "    \n",
    "    # 發送 POST 請求至 LINE Messaging API\n",
    "    response = requests.post(\n",
    "        \"https://api.line.me/v2/bot/message/reply\",\n",
    "        headers=headers,\n",
    "        json=payload\n",
    "    )\n",
    "    return response\n",
    "\n",
    "# LINE Webhook 入口\n",
    "@app.route(\"/\", methods=['POST'])\n",
    "def linebot():\n",
    "    global 年份\n",
    "    # 取得使用者傳來的資料\n",
    "    data = request.get_json()\n",
    "    print(data)\n",
    "    \n",
    "    # 提取 replyToken\n",
    "    reply_token = data['events'][0]['replyToken']\n",
    "    if data['events'][0]['message']['text'][0:2] == \"年份\":\n",
    "        年份=data['events'][0]['message']['text'][2:6]\n",
    "        response = send_text_message(reply_token, {\n",
    "    \"type\": \"text\",\n",
    "    \"text\": \"請再輸入股票代碼XXXX\"\n",
    "})\n",
    "    elif data['events'][0]['message']['text'][0:4] == \"股票代碼\":\n",
    "        股票代碼=data['events'][0]['message']['text'][4:]\n",
    "        df = 下載股價資訊(年份,股票代碼)\n",
    "        r_mean=df[\"收盤價\"].pct_change().dropna().mean()        \n",
    "        stock_data={\n",
    "    \"type\": \"text\",\n",
    "    \"text\": f\"{r_mean:.2%}\"\n",
    "}\n",
    "        response = send_text_message(reply_token, stock_data)\n",
    "    else:\n",
    "        print(\"別鬧\")\n",
    "        response = send_text_message(reply_token, {\n",
    "    \"type\": \"text\",\n",
    "    \"text\": \"無法辨識，請輸入年份XXXX或股票代碼XXXX\"\n",
    "})\n",
    "    \n",
    "    if response.status_code == 200:\n",
    "        return \"OK\", 200\n",
    "    else:\n",
    "        print(\"發送訊息失敗:\", response.status_code, response.text)\n",
    "        return \"Error\", 400\n",
    "\n",
    "# 啟動 Flask 伺服器\n",
    "if __name__ == \"__main__\":\n",
    "    app.run(port=3000)"
   ]
  },
  {
   "cell_type": "code",
   "execution_count": null,
   "id": "68e51466-a5d1-4adc-af50-63941f7ad486",
   "metadata": {},
   "outputs": [],
   "source": []
  }
 ],
 "metadata": {
  "kernelspec": {
   "display_name": "Python 3 (ipykernel)",
   "language": "python",
   "name": "python3"
  },
  "language_info": {
   "codemirror_mode": {
    "name": "ipython",
    "version": 3
   },
   "file_extension": ".py",
   "mimetype": "text/x-python",
   "name": "python",
   "nbconvert_exporter": "python",
   "pygments_lexer": "ipython3",
   "version": "3.11.7"
  }
 },
 "nbformat": 4,
 "nbformat_minor": 5
}
