{
 "cells": [
  {
   "cell_type": "code",
   "execution_count": null,
   "id": "1c606c31-9e24-41a4-a8d5-0b1ec4a8df4f",
   "metadata": {},
   "outputs": [],
   "source": [
    "\"\"\"\n",
    "檔案限制\n",
    "影片:mp4，200MB\n",
    "音檔:mp3/m4a，200MB\n",
    "圖片:jpeg/png，10MB\n",
    "預覽圖片:jpeg/png，1MB\n",
    "\"\"\"\n",
    "\n",
    "from flask import Flask\n",
    "\n",
    "app = Flask(__name__)\n",
    "\n",
    "@app.route(\"/media/video.mp4\")\n",
    "def get_video():\n",
    "    return open(\"media/影片.mp4\", \"rb\").read(), 200, {\"Content-Type\": \"video/mp4\"}\n",
    "\n",
    "@app.route(\"/media/audio.mp3\")\n",
    "def get_audio_mp3():\n",
    "    return open(\"media/音檔.mp3\", \"rb\").read(), 200, {\"Content-Type\": \"audio/mpeg\"}\n",
    "\n",
    "@app.route(\"/media/audio.m4a\")\n",
    "def get_audio():\n",
    "    path = \"media/audio.m4a\"\n",
    "    start = 0\n",
    "    end = os.path.getsize(path) - 1\n",
    "    if \"Range\" in request.headers:\n",
    "        start = int(request.headers[\"Range\"].strip().split(\"=\")[1].split(\"-\")[0])\n",
    "    with open(path, \"rb\") as f:\n",
    "        f.seek(start)\n",
    "        data = f.read(end - start + 1)\n",
    "    return Response(data, 206, {\n",
    "        \"Content-Type\": \"audio/mp4\",\n",
    "        \"Content-Range\": f\"bytes {start}-{end}/{end + 1}\",\n",
    "        \"Accept-Ranges\": \"bytes\",\n",
    "        \"Content-Length\": str(end - start + 1)\n",
    "    })\n",
    "\n",
    "if __name__ == \"__main__\":\n",
    "    app.run(port=3000)"
   ]
  }
 ],
 "metadata": {
  "kernelspec": {
   "display_name": "Python 3 (ipykernel)",
   "language": "python",
   "name": "python3"
  },
  "language_info": {
   "codemirror_mode": {
    "name": "ipython",
    "version": 3
   },
   "file_extension": ".py",
   "mimetype": "text/x-python",
   "name": "python",
   "nbconvert_exporter": "python",
   "pygments_lexer": "ipython3",
   "version": "3.11.13"
  }
 },
 "nbformat": 4,
 "nbformat_minor": 5
}
