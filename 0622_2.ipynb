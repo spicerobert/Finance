{
 "cells": [
  {
   "cell_type": "code",
   "execution_count": 1,
   "id": "fe0091e7-c28a-420a-be52-25b9ab87259b",
   "metadata": {},
   "outputs": [
    {
     "data": {
      "text/plain": [
       "time.struct_time(tm_year=2025, tm_mon=9, tm_mday=8, tm_hour=23, tm_min=46, tm_sec=39, tm_wday=0, tm_yday=251, tm_isdst=0)"
      ]
     },
     "execution_count": 1,
     "metadata": {},
     "output_type": "execute_result"
    }
   ],
   "source": [
    "import time\n",
    "time.localtime()"
   ]
  },
  {
   "cell_type": "code",
   "execution_count": 2,
   "id": "0dbb3a81",
   "metadata": {},
   "outputs": [
    {
     "ename": "ImportError",
     "evalue": "DLL load failed while importing _multiarray_umath: 找不到指定的模組。",
     "output_type": "error",
     "traceback": [
      "\u001b[31m---------------------------------------------------------------------------\u001b[39m",
      "\u001b[31mImportError\u001b[39m                               Traceback (most recent call last)",
      "\u001b[31mImportError\u001b[39m: DLL load failed while importing _multiarray_umath: 找不到指定的模組。"
     ]
    },
    {
     "ename": "ImportError",
     "evalue": "numpy._core.multiarray failed to import",
     "output_type": "error",
     "traceback": [
      "\u001b[31m---------------------------------------------------------------------------\u001b[39m",
      "\u001b[31mImportError\u001b[39m                               Traceback (most recent call last)",
      "\u001b[36mCell\u001b[39m\u001b[36m \u001b[39m\u001b[32mIn[2]\u001b[39m\u001b[32m, line 1\u001b[39m\n\u001b[32m----> \u001b[39m\u001b[32m1\u001b[39m \u001b[38;5;28;01mimport\u001b[39;00m\u001b[38;5;250m \u001b[39m\u001b[34;01mpandas\u001b[39;00m\u001b[38;5;250m \u001b[39m\u001b[38;5;28;01mas\u001b[39;00m\u001b[38;5;250m \u001b[39m\u001b[34;01mpd\u001b[39;00m\n",
      "\u001b[36mFile \u001b[39m\u001b[32me:\\Google Drive\\venv\\conda-env\\Lib\\site-packages\\pandas\\__init__.py:49\u001b[39m\n\u001b[32m     46\u001b[39m \u001b[38;5;66;03m# let init-time option registration happen\u001b[39;00m\n\u001b[32m     47\u001b[39m \u001b[38;5;28;01mimport\u001b[39;00m\u001b[38;5;250m \u001b[39m\u001b[34;01mpandas\u001b[39;00m\u001b[34;01m.\u001b[39;00m\u001b[34;01mcore\u001b[39;00m\u001b[34;01m.\u001b[39;00m\u001b[34;01mconfig_init\u001b[39;00m  \u001b[38;5;66;03m# pyright: ignore[reportUnusedImport] # noqa: F401\u001b[39;00m\n\u001b[32m---> \u001b[39m\u001b[32m49\u001b[39m \u001b[38;5;28;01mfrom\u001b[39;00m\u001b[38;5;250m \u001b[39m\u001b[34;01mpandas\u001b[39;00m\u001b[34;01m.\u001b[39;00m\u001b[34;01mcore\u001b[39;00m\u001b[34;01m.\u001b[39;00m\u001b[34;01mapi\u001b[39;00m\u001b[38;5;250m \u001b[39m\u001b[38;5;28;01mimport\u001b[39;00m (\n\u001b[32m     50\u001b[39m     \u001b[38;5;66;03m# dtype\u001b[39;00m\n\u001b[32m     51\u001b[39m     ArrowDtype,\n\u001b[32m     52\u001b[39m     Int8Dtype,\n\u001b[32m     53\u001b[39m     Int16Dtype,\n\u001b[32m     54\u001b[39m     Int32Dtype,\n\u001b[32m     55\u001b[39m     Int64Dtype,\n\u001b[32m     56\u001b[39m     UInt8Dtype,\n\u001b[32m     57\u001b[39m     UInt16Dtype,\n\u001b[32m     58\u001b[39m     UInt32Dtype,\n\u001b[32m     59\u001b[39m     UInt64Dtype,\n\u001b[32m     60\u001b[39m     Float32Dtype,\n\u001b[32m     61\u001b[39m     Float64Dtype,\n\u001b[32m     62\u001b[39m     CategoricalDtype,\n\u001b[32m     63\u001b[39m     PeriodDtype,\n\u001b[32m     64\u001b[39m     IntervalDtype,\n\u001b[32m     65\u001b[39m     DatetimeTZDtype,\n\u001b[32m     66\u001b[39m     StringDtype,\n\u001b[32m     67\u001b[39m     BooleanDtype,\n\u001b[32m     68\u001b[39m     \u001b[38;5;66;03m# missing\u001b[39;00m\n\u001b[32m     69\u001b[39m     NA,\n\u001b[32m     70\u001b[39m     isna,\n\u001b[32m     71\u001b[39m     isnull,\n\u001b[32m     72\u001b[39m     notna,\n\u001b[32m     73\u001b[39m     notnull,\n\u001b[32m     74\u001b[39m     \u001b[38;5;66;03m# indexes\u001b[39;00m\n\u001b[32m     75\u001b[39m     Index,\n\u001b[32m     76\u001b[39m     CategoricalIndex,\n\u001b[32m     77\u001b[39m     RangeIndex,\n\u001b[32m     78\u001b[39m     MultiIndex,\n\u001b[32m     79\u001b[39m     IntervalIndex,\n\u001b[32m     80\u001b[39m     TimedeltaIndex,\n\u001b[32m     81\u001b[39m     DatetimeIndex,\n\u001b[32m     82\u001b[39m     PeriodIndex,\n\u001b[32m     83\u001b[39m     IndexSlice,\n\u001b[32m     84\u001b[39m     \u001b[38;5;66;03m# tseries\u001b[39;00m\n\u001b[32m     85\u001b[39m     NaT,\n\u001b[32m     86\u001b[39m     Period,\n\u001b[32m     87\u001b[39m     period_range,\n\u001b[32m     88\u001b[39m     Timedelta,\n\u001b[32m     89\u001b[39m     timedelta_range,\n\u001b[32m     90\u001b[39m     Timestamp,\n\u001b[32m     91\u001b[39m     date_range,\n\u001b[32m     92\u001b[39m     bdate_range,\n\u001b[32m     93\u001b[39m     Interval,\n\u001b[32m     94\u001b[39m     interval_range,\n\u001b[32m     95\u001b[39m     DateOffset,\n\u001b[32m     96\u001b[39m     \u001b[38;5;66;03m# conversion\u001b[39;00m\n\u001b[32m     97\u001b[39m     to_numeric,\n\u001b[32m     98\u001b[39m     to_datetime,\n\u001b[32m     99\u001b[39m     to_timedelta,\n\u001b[32m    100\u001b[39m     \u001b[38;5;66;03m# misc\u001b[39;00m\n\u001b[32m    101\u001b[39m     Flags,\n\u001b[32m    102\u001b[39m     Grouper,\n\u001b[32m    103\u001b[39m     factorize,\n\u001b[32m    104\u001b[39m     unique,\n\u001b[32m    105\u001b[39m     value_counts,\n\u001b[32m    106\u001b[39m     NamedAgg,\n\u001b[32m    107\u001b[39m     array,\n\u001b[32m    108\u001b[39m     Categorical,\n\u001b[32m    109\u001b[39m     set_eng_float_format,\n\u001b[32m    110\u001b[39m     Series,\n\u001b[32m    111\u001b[39m     DataFrame,\n\u001b[32m    112\u001b[39m )\n\u001b[32m    114\u001b[39m \u001b[38;5;28;01mfrom\u001b[39;00m\u001b[38;5;250m \u001b[39m\u001b[34;01mpandas\u001b[39;00m\u001b[34;01m.\u001b[39;00m\u001b[34;01mcore\u001b[39;00m\u001b[34;01m.\u001b[39;00m\u001b[34;01mdtypes\u001b[39;00m\u001b[34;01m.\u001b[39;00m\u001b[34;01mdtypes\u001b[39;00m\u001b[38;5;250m \u001b[39m\u001b[38;5;28;01mimport\u001b[39;00m SparseDtype\n\u001b[32m    116\u001b[39m \u001b[38;5;28;01mfrom\u001b[39;00m\u001b[38;5;250m \u001b[39m\u001b[34;01mpandas\u001b[39;00m\u001b[34;01m.\u001b[39;00m\u001b[34;01mtseries\u001b[39;00m\u001b[34;01m.\u001b[39;00m\u001b[34;01mapi\u001b[39;00m\u001b[38;5;250m \u001b[39m\u001b[38;5;28;01mimport\u001b[39;00m infer_freq\n",
      "\u001b[36mFile \u001b[39m\u001b[32me:\\Google Drive\\venv\\conda-env\\Lib\\site-packages\\pandas\\core\\api.py:1\u001b[39m\n\u001b[32m----> \u001b[39m\u001b[32m1\u001b[39m \u001b[38;5;28;01mfrom\u001b[39;00m\u001b[38;5;250m \u001b[39m\u001b[34;01mpandas\u001b[39;00m\u001b[34;01m.\u001b[39;00m\u001b[34;01m_libs\u001b[39;00m\u001b[38;5;250m \u001b[39m\u001b[38;5;28;01mimport\u001b[39;00m (\n\u001b[32m      2\u001b[39m     NaT,\n\u001b[32m      3\u001b[39m     Period,\n\u001b[32m      4\u001b[39m     Timedelta,\n\u001b[32m      5\u001b[39m     Timestamp,\n\u001b[32m      6\u001b[39m )\n\u001b[32m      7\u001b[39m \u001b[38;5;28;01mfrom\u001b[39;00m\u001b[38;5;250m \u001b[39m\u001b[34;01mpandas\u001b[39;00m\u001b[34;01m.\u001b[39;00m\u001b[34;01m_libs\u001b[39;00m\u001b[34;01m.\u001b[39;00m\u001b[34;01mmissing\u001b[39;00m\u001b[38;5;250m \u001b[39m\u001b[38;5;28;01mimport\u001b[39;00m NA\n\u001b[32m      9\u001b[39m \u001b[38;5;28;01mfrom\u001b[39;00m\u001b[38;5;250m \u001b[39m\u001b[34;01mpandas\u001b[39;00m\u001b[34;01m.\u001b[39;00m\u001b[34;01mcore\u001b[39;00m\u001b[34;01m.\u001b[39;00m\u001b[34;01mdtypes\u001b[39;00m\u001b[34;01m.\u001b[39;00m\u001b[34;01mdtypes\u001b[39;00m\u001b[38;5;250m \u001b[39m\u001b[38;5;28;01mimport\u001b[39;00m (\n\u001b[32m     10\u001b[39m     ArrowDtype,\n\u001b[32m     11\u001b[39m     CategoricalDtype,\n\u001b[32m   (...)\u001b[39m\u001b[32m     14\u001b[39m     PeriodDtype,\n\u001b[32m     15\u001b[39m )\n",
      "\u001b[36mFile \u001b[39m\u001b[32me:\\Google Drive\\venv\\conda-env\\Lib\\site-packages\\pandas\\_libs\\__init__.py:17\u001b[39m\n\u001b[32m     13\u001b[39m \u001b[38;5;66;03m# Below imports needs to happen first to ensure pandas top level\u001b[39;00m\n\u001b[32m     14\u001b[39m \u001b[38;5;66;03m# module gets monkeypatched with the pandas_datetime_CAPI\u001b[39;00m\n\u001b[32m     15\u001b[39m \u001b[38;5;66;03m# see pandas_datetime_exec in pd_datetime.c\u001b[39;00m\n\u001b[32m     16\u001b[39m \u001b[38;5;28;01mimport\u001b[39;00m\u001b[38;5;250m \u001b[39m\u001b[34;01mpandas\u001b[39;00m\u001b[34;01m.\u001b[39;00m\u001b[34;01m_libs\u001b[39;00m\u001b[34;01m.\u001b[39;00m\u001b[34;01mpandas_parser\u001b[39;00m  \u001b[38;5;66;03m# isort: skip # type: ignore[reportUnusedImport]\u001b[39;00m\n\u001b[32m---> \u001b[39m\u001b[32m17\u001b[39m \u001b[38;5;28;01mimport\u001b[39;00m\u001b[38;5;250m \u001b[39m\u001b[34;01mpandas\u001b[39;00m\u001b[34;01m.\u001b[39;00m\u001b[34;01m_libs\u001b[39;00m\u001b[34;01m.\u001b[39;00m\u001b[34;01mpandas_datetime\u001b[39;00m  \u001b[38;5;66;03m# noqa: F401 # isort: skip # type: ignore[reportUnusedImport]\u001b[39;00m\n\u001b[32m     18\u001b[39m \u001b[38;5;28;01mfrom\u001b[39;00m\u001b[38;5;250m \u001b[39m\u001b[34;01mpandas\u001b[39;00m\u001b[34;01m.\u001b[39;00m\u001b[34;01m_libs\u001b[39;00m\u001b[34;01m.\u001b[39;00m\u001b[34;01minterval\u001b[39;00m\u001b[38;5;250m \u001b[39m\u001b[38;5;28;01mimport\u001b[39;00m Interval\n\u001b[32m     19\u001b[39m \u001b[38;5;28;01mfrom\u001b[39;00m\u001b[38;5;250m \u001b[39m\u001b[34;01mpandas\u001b[39;00m\u001b[34;01m.\u001b[39;00m\u001b[34;01m_libs\u001b[39;00m\u001b[34;01m.\u001b[39;00m\u001b[34;01mtslibs\u001b[39;00m\u001b[38;5;250m \u001b[39m\u001b[38;5;28;01mimport\u001b[39;00m (\n\u001b[32m     20\u001b[39m     NaT,\n\u001b[32m     21\u001b[39m     NaTType,\n\u001b[32m   (...)\u001b[39m\u001b[32m     26\u001b[39m     iNaT,\n\u001b[32m     27\u001b[39m )\n",
      "\u001b[31mImportError\u001b[39m: numpy._core.multiarray failed to import"
     ]
    }
   ],
   "source": [
    "import pandas as pd"
   ]
  },
  {
   "cell_type": "code",
   "execution_count": null,
   "id": "e2040b2c-de2b-4f79-96c5-f15626fbfd30",
   "metadata": {},
   "outputs": [],
   "source": [
    "data5=pd.read_excel(\"test6.xlsx\",index_col=0)\n",
    "new={\"人名\":[],\"職稱\":[],\"年資\":[]}\n",
    "while 1:\n",
    "    for s in new:\n",
    "        new[s].append(input(f\"請輸入{s}\"))\n",
    "    if input(\"請問要繼續新增嗎?YES/NO\")==\"NO\":\n",
    "        break\n",
    "new_d=pd.DataFrame(new)\n",
    "data5=pd.concat([data5,new_d])\n",
    "data5.to_excel(\"test6.xlsx\")"
   ]
  },
  {
   "cell_type": "code",
   "execution_count": null,
   "id": "f0951f2c-67d3-4837-818e-bc46be272fe8",
   "metadata": {},
   "outputs": [],
   "source": [
    "new_data.to_excel(\"test6.xlsx\")"
   ]
  },
  {
   "cell_type": "code",
   "execution_count": null,
   "id": "4488b39f-b086-41c1-847d-4733441c2139",
   "metadata": {},
   "outputs": [],
   "source": [
    "new_data.sort_index(ascending=1)\n",
    "new_data.sort_values([\"人名\"],ascending=1)"
   ]
  },
  {
   "cell_type": "code",
   "execution_count": null,
   "id": "8e4b99dd-776f-4ce8-a69a-41b4b424d279",
   "metadata": {},
   "outputs": [],
   "source": [
    "new_data[new_data[\"年資\"]>=5]\n",
    "new_data[new_data[\"職稱\"].isin([\"專員A\"])]\n",
    "new_data[new_data[\"職稱\"].str.contains(\"專員\")]"
   ]
  },
  {
   "cell_type": "code",
   "execution_count": null,
   "id": "d2590298-0116-4923-add5-c2e93c03b988",
   "metadata": {},
   "outputs": [],
   "source": [
    "new_data=data._append({\"人名\":\"Alan\",\"職稱\":\"經理\",\"年資\":10},ignore_index=True)\n",
    "new_data=new_data.drop_duplicates()\n",
    "new_data"
   ]
  },
  {
   "cell_type": "code",
   "execution_count": null,
   "id": "41d40a9f-5248-479e-8ffb-763f5a15e565",
   "metadata": {},
   "outputs": [],
   "source": [
    "new_data.iat[0,2]=None\n",
    "new_data.dropna()"
   ]
  },
  {
   "cell_type": "code",
   "execution_count": null,
   "id": "e350da80-18a3-4a8a-87d7-e4f47e0dc4a7",
   "metadata": {},
   "outputs": [],
   "source": [
    "import pandas as pd\n",
    "人資={\"人名\":[\"Alan\",\"Kevin\",\"Amy\",\"Andy\"],\"職稱\":[\"經理\",\"副理\",\"專員A\",\"專員B\"],\"年資\":[10,8,5,4]}\n",
    "data=pd.DataFrame(人資,index=[\"A1\",\"A2\",\"A3\",\"A4\"])\n",
    "new={\"人名\":[\"Bob\",\"Ellen\"],\"職稱\":[\"專員C\",\"專員C\"],\"年資\":[2,3]}\n",
    "data2=pd.DataFrame(new)\n",
    "new_data=pd.concat([data,data2],ignore_index=1)\n",
    "new_data"
   ]
  },
  {
   "cell_type": "code",
   "execution_count": null,
   "id": "48e173d0-5de9-4ebe-906a-e1cb12f84927",
   "metadata": {},
   "outputs": [],
   "source": [
    "import pandas as pd\n",
    "人資={\"人名\":[\"Alan\",\"Kevin\",\"Amy\",\"Andy\"],\"職稱\":[\"經理\",\"副理\",\"專員A\",\"專員B\"],\"年資\":[10,8,5,4]}\n",
    "data=pd.DataFrame(人資,index=[\"A1\",\"A2\",\"A3\",\"A4\"])\n",
    "data=data._append({\"人名\":\"Bob\",\"職稱\":\"專員C\",\"年資\":2},ignore_index=True)\n",
    "data"
   ]
  },
  {
   "cell_type": "code",
   "execution_count": null,
   "id": "f94a02c6-83ff-422f-a474-70247c058db7",
   "metadata": {},
   "outputs": [],
   "source": [
    "import pandas as pd\n",
    "人資={\"人名\":[\"Alan\",\"Kevin\",\"Amy\",\"Andy\"],\"職稱\":[\"經理\",\"副理\",\"專員A\",\"專員B\"],\"年資\":[10,8,5,4]}\n",
    "data=pd.DataFrame(人資,index=[\"A1\",\"A2\",\"A3\",\"A4\"])\n",
    "data.insert(2,column=\"考績\",value=[\"甲\",\"丙\",\"甲\",\"乙\"])\n",
    "data"
   ]
  },
  {
   "cell_type": "code",
   "execution_count": null,
   "id": "47d798fa-4fed-4b41-8745-3cdfd2a81b4d",
   "metadata": {},
   "outputs": [],
   "source": [
    "import pandas as pd\n",
    "人資={\"人名\":[\"Alan\",\"Kevin\",\"Amy\",\"Andy\"],\"職稱\":[\"經理\",\"副理\",\"專員A\",\"專員B\"],\"年資\":[10,8,5,4]}\n",
    "data=pd.DataFrame(人資,index=[\"A1\",\"A2\",\"A3\",\"A4\"])\n",
    "print(data.loc[[\"A1\",\"A3\"],[\"人名\",\"年資\"]])\n",
    "print(data.iloc[:,[0,2]])\n",
    "data"
   ]
  },
  {
   "cell_type": "code",
   "execution_count": null,
   "id": "97f91791-5961-49c6-9bff-cd544d1defa3",
   "metadata": {},
   "outputs": [],
   "source": [
    "import pandas as pd\n",
    "人資={\"人名\":[\"Alan\",\"Kevin\",\"Amy\",\"Andy\"],\"職稱\":[\"經理\",\"副理\",\"專員A\",\"專員B\"],\"年資\":[10,8,5,4]}\n",
    "data=pd.DataFrame(人資,index=[\"A1\",\"A2\",\"A3\",\"A4\"])\n",
    "print(data.at[\"A2\",\"年資\"])\n",
    "print(data.iat[3,1])\n",
    "data"
   ]
  },
  {
   "cell_type": "code",
   "execution_count": null,
   "id": "f359da00-80e7-4187-a2df-fae835f746a0",
   "metadata": {},
   "outputs": [],
   "source": [
    "import pandas as pd\n",
    "人資={\"人名\":[\"Alan\",\"Kevin\",\"Amy\",\"Andy\"],\"職稱\":[\"經理\",\"副理\",\"專員A\",\"專員B\"],\"年資\":[10,8,5,4]}\n",
    "data=pd.DataFrame(人資)\n",
    "data[2:3]"
   ]
  },
  {
   "cell_type": "code",
   "execution_count": null,
   "id": "7b5fa543-2ed4-4316-93dd-521b3263b5ff",
   "metadata": {},
   "outputs": [],
   "source": [
    "import pandas as pd\n",
    "人資={\"人名\":[\"Alan\",\"Kevin\",\"Amy\",\"Andy\"],\"職稱\":[\"經理\",\"副理\",\"專員A\",\"專員B\"],\"年資\":[10,8,5,4]}\n",
    "data=pd.DataFrame(人資)\n",
    "# print(data[\"人名\"])\n",
    "list(data.columns)[:]\n",
    "print(data[list(data.columns)[-1]])\n",
    "data.columns.tolist()"
   ]
  },
  {
   "cell_type": "code",
   "execution_count": null,
   "id": "ae4f2d5e-42e9-4211-8f89-36d80ae4059f",
   "metadata": {},
   "outputs": [],
   "source": [
    "import pandas as pd\n",
    "人資2=[[\"Alan\",\"經理\"],[\"Kevin\",\"副理\"]]\n",
    "data2=pd.DataFrame(人資2,columns=[\"人名\",\"職稱\"],index=[\"A\",\"B\"])\n",
    "data2"
   ]
  },
  {
   "cell_type": "code",
   "execution_count": null,
   "id": "d9641948-0c7d-45b3-9e8b-8b70194e0b48",
   "metadata": {},
   "outputs": [],
   "source": [
    "import pandas as pd\n",
    "人資={\"人名\":[\"Alan\",\"Kevin\"],\"職稱\":[\"經理\",\"副理\"]}\n",
    "data=pd.DataFrame(人資)\n",
    "data"
   ]
  },
  {
   "cell_type": "code",
   "execution_count": null,
   "id": "b4d9d89b-8dee-40f9-98df-56d13ec63d51",
   "metadata": {},
   "outputs": [],
   "source": [
    "import pandas as pd\n",
    "金額=pd.Series([110,111,113])\n",
    "r=[1]\n",
    "for x in range(1,金額.size):\n",
    "    r.append((金額[x]-金額[x-1])/金額[x-1])\n",
    "報酬率=pd.Series(r)\n",
    "報酬率"
   ]
  },
  {
   "cell_type": "code",
   "execution_count": null,
   "id": "15679404-f593-4cd9-bd35-4f38bfbcb787",
   "metadata": {},
   "outputs": [],
   "source": [
    "import pandas as pd\n",
    "工作=pd.Series([\"清潔\",\"油漆\",\"打草\",\"挖水溝\"],index=[\"項目一\",\"項目二\",\"項目三\",\"項目四\"])\n",
    "new=pd.Series([\"站崗\",\"打靶\"])\n",
    "new2=工作._append(new,ignore_index=1)\n",
    "new2[2]=\"砍草\"\n",
    "for x in range(new2.size):\n",
    "    new2[x]=\"A\"\n",
    "new2"
   ]
  },
  {
   "cell_type": "code",
   "execution_count": null,
   "id": "f2d6eeb5-cf50-46a4-95a2-5fb2446a682b",
   "metadata": {},
   "outputs": [],
   "source": [
    "import pandas as pd\n",
    "工作=pd.Series([\"清潔\",\"油漆\",\"打草\",\"挖水溝\"],index=[\"項目一\",\"項目二\",\"項目三\",\"項目四\"])\n",
    "工作[\"項目一\"]"
   ]
  },
  {
   "cell_type": "code",
   "execution_count": null,
   "id": "8d6e98eb-cd1c-4a1b-9f74-e2b580045697",
   "metadata": {},
   "outputs": [],
   "source": [
    "數值=pd.Series([1,499,5460,\"4565\",1,499,5460.46,546])\n",
    "數值"
   ]
  },
  {
   "cell_type": "code",
   "execution_count": null,
   "id": "b860e1f2-876b-46eb-acca-0d8da137fb07",
   "metadata": {},
   "outputs": [],
   "source": [
    "import pandas as pd\n",
    "工作=pd.Series([\"清潔\",\"油漆\",\"打草\",\"挖水溝\"])\n",
    "工作.index=[\"項目一\",\"項目二\",\"項目三\",\"項目四\"]\n",
    "工作"
   ]
  }
 ],
 "metadata": {
  "kernelspec": {
   "display_name": "Python 3",
   "language": "python",
   "name": "python3"
  },
  "language_info": {
   "codemirror_mode": {
    "name": "ipython",
    "version": 3
   },
   "file_extension": ".py",
   "mimetype": "text/x-python",
   "name": "python",
   "nbconvert_exporter": "python",
   "pygments_lexer": "ipython3",
   "version": "3.11.13"
  }
 },
 "nbformat": 4,
 "nbformat_minor": 5
}
