{
 "cells": [
  {
   "cell_type": "code",
   "execution_count": 21,
   "id": "c695553f-0494-4270-8839-f5a451cb0d1d",
   "metadata": {},
   "outputs": [
    {
     "name": "stdout",
     "output_type": "stream",
     "text": [
      "顯示全部商品請輸入1\n",
      "搜尋商品_名稱輸入2\n",
      "輸入-1停止查詢\n"
     ]
    },
    {
     "name": "stdin",
     "output_type": "stream",
     "text": [
      " 10630416\n"
     ]
    },
    {
     "name": "stdout",
     "output_type": "stream",
     "text": [
      "無法辨識，請重新輸入\n"
     ]
    },
    {
     "name": "stdin",
     "output_type": "stream",
     "text": [
      " -1\n"
     ]
    },
    {
     "name": "stdout",
     "output_type": "stream",
     "text": [
      "停止\n"
     ]
    }
   ],
   "source": [
    "#類別框架\n",
    "class 商品:\n",
    "    def __init__(self,名稱,價格,分類,敘述):\n",
    "        self.名稱=名稱\n",
    "        self.價格=價格\n",
    "        self.分類=分類\n",
    "        self.敘述=敘述\n",
    "    def __str__(self):\n",
    "        return f\"名稱:{self.名稱},價格{self.價格}元,分類{self.分類},敘述{self.敘述}\"\n",
    "class 型錄:\n",
    "    def __init__(self):\n",
    "        self.商品清單=[]\n",
    "    def 新增商品(self,商品物件):\n",
    "        self.商品清單.append(商品物件)\n",
    "    def 顯示全部商品(self):\n",
    "        for 商品 in self.商品清單:\n",
    "            print(商品)\n",
    "            print(\"-\" * 60)\n",
    "    def 搜尋商品_名稱(self,name):\n",
    "        結果=[商品 for 商品 in self.商品清單 if 商品.名稱 == name]\n",
    "        if 結果:\n",
    "            for 商品 in 結果:\n",
    "                print(商品)\n",
    "                print(\"-\" * 60)\n",
    "        else:\n",
    "            print(\"查無商品\")\n",
    "#建立型錄\n",
    "型錄1號=型錄()\n",
    "\n",
    "#建立商品\n",
    "商品1號=商品(\"ASUS\",20000,\"VIVOBOOK\",\"效能筆電\")\n",
    "商品2號=商品(\"ASUS\",56000,\"ZENBOOK\",\"ULTRA\")\n",
    "\n",
    "#加入型錄\n",
    "型錄1號.新增商品(商品1號)\n",
    "型錄1號.新增商品(商品2號)\n",
    "\n",
    "menu=\"顯示全部商品請輸入1\\n搜尋商品_名稱輸入2\\n輸入-1停止查詢\"\n",
    "def ch():\n",
    "    print(menu)\n",
    "    choose=input()\n",
    "    if choose==\"1\":\n",
    "        型錄1號.顯示全部商品()\n",
    "    elif choose==\"2\":\n",
    "        Name=input(\"請輸入欲查詢之名稱\")\n",
    "        型錄1號.搜尋商品_名稱(Name)\n",
    "    elif choose==\"-1\":\n",
    "        return print(\"停止\")\n",
    "    else:\n",
    "        print(\"無法辨識，請重新輸入\")\n",
    "    ch()\n",
    "ch()"
   ]
  },
  {
   "cell_type": "code",
   "execution_count": 1,
   "id": "269690f7-1c06-40da-8257-41fe8e837cf2",
   "metadata": {},
   "outputs": [
    {
     "ename": "NameError",
     "evalue": "name '食品企劃' is not defined",
     "output_type": "error",
     "traceback": [
      "\u001b[1;31m---------------------------------------------------------------------------\u001b[0m",
      "\u001b[1;31mNameError\u001b[0m                                 Traceback (most recent call last)",
      "Cell \u001b[1;32mIn[1], line 1\u001b[0m\n\u001b[1;32m----> 1\u001b[0m 蔬菜餅乾\u001b[38;5;241m=\u001b[39m食品企劃(\u001b[38;5;124m\"\u001b[39m\u001b[38;5;124m2025/6/15\u001b[39m\u001b[38;5;124m\"\u001b[39m,\u001b[38;5;241m100000\u001b[39m,[\u001b[38;5;124m\"\u001b[39m\u001b[38;5;124mAlan\u001b[39m\u001b[38;5;124m\"\u001b[39m,\u001b[38;5;124m\"\u001b[39m\u001b[38;5;124mRobert\u001b[39m\u001b[38;5;124m\"\u001b[39m])\n\u001b[0;32m      2\u001b[0m 蔬菜餅乾\u001b[38;5;241m.\u001b[39m人員異動(\u001b[38;5;124m\"\u001b[39m\u001b[38;5;124mKevin\u001b[39m\u001b[38;5;124m\"\u001b[39m)\n\u001b[0;32m      3\u001b[0m 蔬菜餅乾\u001b[38;5;241m.\u001b[39m時間異動(\u001b[38;5;124m\"\u001b[39m\u001b[38;5;124m2025/6/17\u001b[39m\u001b[38;5;124m\"\u001b[39m)\n",
      "\u001b[1;31mNameError\u001b[0m: name '食品企劃' is not defined"
     ]
    }
   ],
   "source": [
    "class 食品企劃:\n",
    "    def __init__(self,時間,經費,人員):\n",
    "        self.__時間=時間\n",
    "        self.經費=經費\n",
    "        self.人員=人員\n",
    "    def 人員異動(self,新人):\n",
    "        # 新人=input(\"請輸入新人名字\")\n",
    "        self.人員.append(新人)\n",
    "    def 時間異動(self,新時間):\n",
    "        self.__時間=新時間\n",
    "        print(self.__時間)\n",
    "    def 顯示細節(self):\n",
    "        print(\"企劃時間:%s 企劃經費:%s 企劃人員:%s\"%(self.__時間,self.經費,self.人員))\n",
    "class 企劃:\n",
    "    def __init__(self,年分,企劃名稱):\n",
    "        self.企劃名稱=企劃名稱\n",
    "        self.執行年分=年分\n",
    "        self.所有企劃=[]\n",
    "    def 新增企劃(self,新企劃):\n",
    "        self.所有企劃.append(新企劃)\n",
    "    def 觀看細節(self):\n",
    "        for 企 in self.所有企劃:\n",
    "            企.顯示細節()\n",
    "蔬菜餅乾=食品企劃(\"2025/6/15\",100000,[\"Alan\",\"Robert\"])\n",
    "蔬菜餅乾.人員異動(\"Kevin\")\n",
    "蔬菜餅乾.時間異動(\"2025/6/17\")\n",
    "一一四年度=企劃(114,\"食品GOGO\")\n",
    "print(一一四年度.所有企劃)\n",
    "一一四年度.新增企劃(蔬菜餅乾)\n",
    "print(一一四年度.所有企劃)\n",
    "一一四年度.觀看細節()"
   ]
  },
  {
   "cell_type": "code",
   "execution_count": 4,
   "id": "fc9d837d-179c-46af-b552-991e43cc7ef5",
   "metadata": {},
   "outputs": [
    {
     "name": "stdout",
     "output_type": "stream",
     "text": [
      "14\n"
     ]
    }
   ],
   "source": [
    "import random\n",
    "num=random.randint(1,30)\n",
    "if  num == 13:\n",
    "    print(random.randint(1,30))\n",
    "else:\n",
    "    print(num)"
   ]
  },
  {
   "cell_type": "code",
   "execution_count": null,
   "id": "9d9f9309-422d-49de-b2e0-c984cc138c97",
   "metadata": {},
   "outputs": [],
   "source": [
    "class 英雄:\n",
    "    def __init__(self,力量,敏捷,智力):\n",
    "        self.力量=力量\n",
    "        self.敏捷=敏捷\n",
    "        self.智力=智力\n",
    "        self.體力=力量*1.5\n",
    "        self.防禦=力量*0.5+敏捷*0.5\n",
    "        self.魔力值=智力*2\n",
    "    def __str__(self):\n",
    "        return f\"力量{self.力量},敏捷{self.敏捷},智力{self.智力}\"\n",
    "Alan=英雄(10,10,10)\n",
    "print(Alan.體力,Alan.防禦,Alan.魔力值)\n",
    "print(Alan.力量,Alan.敏捷,Alan.智力)\n",
    "print(Alan)"
   ]
  },
  {
   "cell_type": "markdown",
   "id": "21ca93a5-9544-49ea-abf5-58e10ab92af1",
   "metadata": {},
   "source": [
    "#### class 類別名稱:\n",
    "    def __init__(self,參數1,參數2):\n",
    "        self.屬性名稱1=參數1+參數2\n",
    "        self.屬性名稱2=參數1-參數2\n",
    "變數=類別名稱(123,456)\n",
    "print(變數.屬性名稱1)\n",
    "print(變數.屬性名稱2)"
   ]
  }
 ],
 "metadata": {
  "kernelspec": {
   "display_name": "Python 3 (ipykernel)",
   "language": "python",
   "name": "python3"
  },
  "language_info": {
   "codemirror_mode": {
    "name": "ipython",
    "version": 3
   },
   "file_extension": ".py",
   "mimetype": "text/x-python",
   "name": "python",
   "nbconvert_exporter": "python",
   "pygments_lexer": "ipython3",
   "version": "3.11.7"
  }
 },
 "nbformat": 4,
 "nbformat_minor": 5
}
